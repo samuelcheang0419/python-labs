{
 "cells": [
  {
   "cell_type": "code",
   "execution_count": 72,
   "metadata": {},
   "outputs": [],
   "source": [
    "import math"
   ]
  },
  {
   "cell_type": "markdown",
   "metadata": {},
   "source": [
    "# Lab 4: Functions and Functional Programming (Part 1)"
   ]
  },
  {
   "cell_type": "markdown",
   "metadata": {},
   "source": [
    "## Overview\n",
    "Build familiarity with reading and writing Python functions with different types of formal parameters, explore some nuances of function execution semantics, and dive into the internals of functions. Then, explore functional programming's place in the Python landscape, and gain practice with powerful tools like `map`, `filter`, iterators, generators, and decorators.\n",
    "\n",
    "*Disclaimer: we know that this lab is particularly focused on Python semantics, which may not seem exciting at first. However, mastering the mechanics of Python functions gives you access to a whole lot of powerful tools that either don't exist or are uncommon or hard-to-use in other languages! The skills you learn through this lab will allow you to write (and debug) powerful Pythonic code quickly and easily!*\n",
    "\n",
    "**As with Lab 2, we don't expect you to finish all of the material here in one class period. If you do - great! But if not, you are encouraged to work through the extra material at your own pace - it explores interesting and intriguing aspects of Python functions.**"
   ]
  },
  {
   "cell_type": "markdown",
   "metadata": {},
   "source": [
    "## Functions\n",
    "Let's start by exploring Python functions more!"
   ]
  },
  {
   "cell_type": "markdown",
   "metadata": {},
   "source": [
    "## Exploring Arguments and Parameters\n",
    "\n",
    "With a partner, work through the following problems."
   ]
  },
  {
   "cell_type": "markdown",
   "metadata": {},
   "source": [
    "\n",
    "Consider the following function definition:\n",
    "\n",
    "```Python\n",
    "def print_two(a, b):\n",
    "    print(\"Arguments: {0} and {1}\".format(a, b))\n",
    "```\n",
    "\n",
    "For each of the following function calls, predict whether the call is valid or not. If it is valid, what will the output be? If it is invalid, what is the cause of the error?\n",
    "\n",
    "*Note: make your predictions **before** running the code interactively. Then check yourself!*\n",
    "\n",
    "```Python\n",
    "# Valid or invalid?\n",
    "print_two()\n",
    "print_two(4, 1)\n",
    "print_two(41)\n",
    "print_two(a=4, 1)\n",
    "print_two(4, a=1)\n",
    "print_two(4, 1, 1)\n",
    "print_two(b=4, 1)\n",
    "print_two(a=4, b=1)\n",
    "print_two(b=1, a=4)\n",
    "print_two(1, a=1)\n",
    "print_two(4, 1, b=1)\n",
    "```"
   ]
  },
  {
   "cell_type": "code",
   "execution_count": 11,
   "metadata": {},
   "outputs": [
    {
     "ename": "TypeError",
     "evalue": "print_two() got multiple values for argument 'b'",
     "output_type": "error",
     "traceback": [
      "\u001b[0;31m---------------------------------------------------------------------------\u001b[0m",
      "\u001b[0;31mTypeError\u001b[0m                                 Traceback (most recent call last)",
      "\u001b[0;32m<ipython-input-11-8576160ac4d1>\u001b[0m in \u001b[0;36m<module>\u001b[0;34m\u001b[0m\n\u001b[1;32m     16\u001b[0m \u001b[0;31m# print_two(b=1, a=4) # valid\u001b[0m\u001b[0;34m\u001b[0m\u001b[0;34m\u001b[0m\u001b[0;34m\u001b[0m\u001b[0m\n\u001b[1;32m     17\u001b[0m \u001b[0;31m# print_two(1, a=1) # invalid - first argument interpreted for a, but keyword argument also specifies for a\u001b[0m\u001b[0;34m\u001b[0m\u001b[0;34m\u001b[0m\u001b[0;34m\u001b[0m\u001b[0m\n\u001b[0;32m---> 18\u001b[0;31m \u001b[0mprint_two\u001b[0m\u001b[0;34m(\u001b[0m\u001b[0;36m4\u001b[0m\u001b[0;34m,\u001b[0m \u001b[0;36m1\u001b[0m\u001b[0;34m,\u001b[0m \u001b[0mb\u001b[0m\u001b[0;34m=\u001b[0m\u001b[0;36m1\u001b[0m\u001b[0;34m)\u001b[0m \u001b[0;31m# invalid - too many inputs\u001b[0m\u001b[0;34m\u001b[0m\u001b[0;34m\u001b[0m\u001b[0m\n\u001b[0m",
      "\u001b[0;31mTypeError\u001b[0m: print_two() got multiple values for argument 'b'"
     ]
    }
   ],
   "source": [
    "# Before running me, predict which of these calls will be invalid and which will be valid!\n",
    "# For valid calls, what is the output?\n",
    "# For invalid calls, why is it invalid?\n",
    "def print_two(a, b):\n",
    "    print(\"Arguments: {0} and {1}\".format(a, b))\n",
    "\n",
    "# Uncomment the ones you want to run!\n",
    "# print_two() # invalid - no inputs, and they are not optional\n",
    "# print_two(4, 1) # valid\n",
    "# print_two(41) # invalid - not enough inputs, and they are not optional\n",
    "# print_two(a=4, 1) # invalid - positional argument follows keyword argument\n",
    "# print_two(4, a=1) # invalid - first argument interpreted for a, but keyword argument also specifies for a\n",
    "# print_two(4, 1, 1) # invalid - too many inputs\n",
    "# print_two(b=4, 1) # invalid - positional argument follows keyword argument\n",
    "# print_two(a=4, b=1) # valid \n",
    "# print_two(b=1, a=4) # valid\n",
    "# print_two(1, a=1) # invalid - first argument interpreted for a, but keyword argument also specifies for a\n",
    "# print_two(4, 1, b=1) # invalid - too many inputs"
   ]
  },
  {
   "cell_type": "markdown",
   "metadata": {},
   "source": [
    "Write at least two more instances of function calls, not listed above, and predict their output. Are they valid or invalid? Check your hypothesis.\n",
    "\n",
    "*These \"write-some-more\" problems are your chance to clarify your own understanding of function call semantics. You can skip them if you'd like, but using the interactive interpreter to test your own hypotheses is a crucial Python skill that lets you answer questions of the form \"But what happens if I...\"*"
   ]
  },
  {
   "cell_type": "code",
   "execution_count": null,
   "metadata": {},
   "outputs": [],
   "source": [
    "# Write two more function calls.\n",
    "# print_two(...)\n",
    "# print_two(...)"
   ]
  },
  {
   "cell_type": "markdown",
   "metadata": {},
   "source": [
    "### Default Arguments\n",
    "\n",
    "Consider the following function definition:\n",
    "\n",
    "```Python\n",
    "def keyword_args(a, b=1, c='X', d=None):\n",
    "    print(\"a:\", a)\n",
    "    print(\"b:\", b)\n",
    "    print(\"c:\", c)\n",
    "    print(\"d:\", d)\n",
    "```\n",
    "\n",
    "For each of the following function calls, predict whether the call is valid or not. If it is valid, what will the output be? If it is invalid, what is the cause of the error?\n",
    "\n",
    "```Python\n",
    "keyword_args(5)\n",
    "keyword_args(a=5)\n",
    "keyword_args(5, 8)\n",
    "keyword_args(5, 2, c=4)\n",
    "keyword_args(5, 0, 1)\n",
    "keyword_args(5, 2, d=8, c=4)\n",
    "keyword_args(5, 2, 0, 1, \"\")\n",
    "keyword_args(c=7, 1)\n",
    "keyword_args(c=7, a=1)\n",
    "keyword_args(5, 2, [], 5)\n",
    "keyword_args(1, 7, e=6)\n",
    "keyword_args(1, c=7)\n",
    "keyword_args(5, 2, b=4)\n",
    "```"
   ]
  },
  {
   "cell_type": "code",
   "execution_count": 25,
   "metadata": {},
   "outputs": [
    {
     "ename": "TypeError",
     "evalue": "keyword_args() got multiple values for argument 'b'",
     "output_type": "error",
     "traceback": [
      "\u001b[0;31m---------------------------------------------------------------------------\u001b[0m",
      "\u001b[0;31mTypeError\u001b[0m                                 Traceback (most recent call last)",
      "\u001b[0;32m<ipython-input-25-437d864377da>\u001b[0m in \u001b[0;36m<module>\u001b[0;34m\u001b[0m\n\u001b[1;32m     21\u001b[0m \u001b[0;31m# keyword_args(1, 7, e=6) # invalid - argument 'e' doesn't exist\u001b[0m\u001b[0;34m\u001b[0m\u001b[0;34m\u001b[0m\u001b[0;34m\u001b[0m\u001b[0m\n\u001b[1;32m     22\u001b[0m \u001b[0;31m# keyword_args(1, c=7) # valid - 1, 1, 7, None\u001b[0m\u001b[0;34m\u001b[0m\u001b[0;34m\u001b[0m\u001b[0;34m\u001b[0m\u001b[0m\n\u001b[0;32m---> 23\u001b[0;31m \u001b[0mkeyword_args\u001b[0m\u001b[0;34m(\u001b[0m\u001b[0;36m5\u001b[0m\u001b[0;34m,\u001b[0m \u001b[0;36m2\u001b[0m\u001b[0;34m,\u001b[0m \u001b[0mb\u001b[0m\u001b[0;34m=\u001b[0m\u001b[0;36m4\u001b[0m\u001b[0;34m)\u001b[0m \u001b[0;31m# invalid - unclear positional argument for 2\u001b[0m\u001b[0;34m\u001b[0m\u001b[0;34m\u001b[0m\u001b[0m\n\u001b[0m",
      "\u001b[0;31mTypeError\u001b[0m: keyword_args() got multiple values for argument 'b'"
     ]
    }
   ],
   "source": [
    "# Before running me, predict which of these calls will be invalid and which will be valid!\n",
    "# For valid calls, what is the output?\n",
    "# For invalid calls, why is it invalid?\n",
    "def keyword_args(a, b=1, c='X', d=None):\n",
    "    print(\"a:\", a)\n",
    "    print(\"b:\", b)\n",
    "    print(\"c:\", c)\n",
    "    print(\"d:\", d)\n",
    "    \n",
    "# Uncomment the ones you want to run!\n",
    "# keyword_args(5) # valid - 5, 1, 'X', None\n",
    "# keyword_args(a=5) # valid - 5, 1, 'X', None\n",
    "# keyword_args(5, 8) # valid - 5, 8, 'X', None\n",
    "# keyword_args(5, 2, c=4) # valid - 5, 2, 4, None\n",
    "# keyword_args(5, 0, 1) # valid - 5, 0, 1, None\n",
    "# keyword_args(5, 2, d=8, c=4) # valid - 5, 2, 4, 8\n",
    "# keyword_args(5, 2, 0, 1, \"\") # invalid - too many arguments\n",
    "# keyword_args(c=7, 1) # invalid - keyword argument before positional argument\n",
    "# keyword_args(c=7, a=1) # valid - 1, 1, 7, None\n",
    "# keyword_args(5, 2, [], 5) # valid - 5, 2, [], 5\n",
    "# keyword_args(1, 7, e=6) # invalid - argument 'e' doesn't exist\n",
    "# keyword_args(1, c=7) # valid - 1, 1, 7, None\n",
    "# keyword_args(5, 2, b=4) # invalid - unclear positional argument for 2"
   ]
  },
  {
   "cell_type": "markdown",
   "metadata": {},
   "source": [
    "Write at least two more instances of function calls, not listed above, and predict their output. Are they valid or invalid? Check your hypothesis."
   ]
  },
  {
   "cell_type": "code",
   "execution_count": null,
   "metadata": {},
   "outputs": [],
   "source": [
    "# Write two more function calls.\n",
    "# keyword_args(...)\n",
    "# keyword_args(...)"
   ]
  },
  {
   "cell_type": "markdown",
   "metadata": {},
   "source": [
    "### Exploring Variadic Arguments\n",
    "As before, consider the following function definition: \n",
    "\n",
    "```Python\n",
    "def variadic(*args, **kwargs):\n",
    "    print(\"Positional:\", args)\n",
    "    print(\"Keyword:\", kwargs)\n",
    "```\n",
    "\n",
    "For each of the following function calls, predict whether the call is valid or not. If it is valid, what will the output be? If it is invalid, what is the cause of the error?\n",
    "\n",
    "```Python\n",
    "variadic(2, 3, 5, 7)\n",
    "variadic(1, 1, n=1)\n",
    "variadic(n=1, 2, 3)\n",
    "variadic()\n",
    "variadic(cs=\"Computer Science\", pd=\"Product Design\")\n",
    "variadic(cs=\"Computer Science\", cs=\"CompSci\", cs=\"CS\")\n",
    "variadic(5, 8, k=1, swap=2)\n",
    "variadic(8, *[3, 4, 5], k=1, **{'a':5, 'b':'x'})\n",
    "variadic(*[8, 3], *[4, 5], k=1, **{'a':5, 'b':'x'})\n",
    "variadic(*[3, 4, 5], 8, *(4, 1), k=1, **{'a':5, 'b':'x'})\n",
    "variadic({'a':5, 'b':'x'}, *{'a':5, 'b':'x'}, **{'a':5, 'b':'x'})\n",
    "```"
   ]
  },
  {
   "cell_type": "code",
   "execution_count": 41,
   "metadata": {},
   "outputs": [
    {
     "name": "stdout",
     "output_type": "stream",
     "text": [
      "Positional: ({'a': 5, 'b': 'x'}, 'c', 'b')\n",
      "Keyword: {'a': 5, 'b': 'x'}\n"
     ]
    }
   ],
   "source": [
    "# Before running me, predict which of these calls will be invalid and which will be valid!\n",
    "# For valid calls, what is the output?\n",
    "# For invalid calls, why is it invalid?\n",
    "def variadic(*args, **kwargs):\n",
    "    print(\"Positional:\", args)\n",
    "    print(\"Keyword:\", kwargs)\n",
    "\n",
    "# Uncomment the ones you want to run!\n",
    "# variadic(2, 3, 5, 7) # Positional: (2, 3, 5, 7), Keyword: {}\n",
    "# variadic(1, 1, n=1) # Positional: (1, 1), Keyword: {'n': 1}\n",
    "# variadic(n=1, 2, 3) # invalid - keyword arg before positional arg\n",
    "# variadic() # Positional: (), Keyword: {}\n",
    "# variadic(cs=\"Computer Science\", pd=\"Product Design\") # Positional: (), Keyword: {'cs': 'Computer Science', 'pd': 'Product Design'}\n",
    "# variadic(cs=\"Computer Science\", cs=\"CompSci\", cs=\"CS\") # invalid - multiple values for same keyword\n",
    "# variadic(5, 8, k=1, swap=2) # Positional: (5, 8), Keyword: {'k': 1, 'swap': 2}\n",
    "# variadic(8, *[3, 4, 5], k=1, **{'a':5, 'b':'x'}) # Positional: (8, 3, 4, 5), Keyword: {'k': 1, 'a': 5, 'b': 'x'}\n",
    "# variadic(*[8, 3], *[4, 5], k=1, **{'a':5, 'b':'x'}) # Positional: (8, 3, 4, 5), Keyword: {'k': 1, 'a': 5, 'b': 'x'}\n",
    "# variadic(*[3, 4, 5], 8, *(4, 1), k=1, **{'a':5, 'b':'x'}) # Positional: (3, 4, 5, 8, 4, 1), Keyword: {'k': 1, 'a': 5, 'b': 'x'}\n",
    "variadic({'a':5, 'b':'x'}, *{'c':5, 'b':'x'}, **{'a':5, 'b':'x'}) # Positional: ({'a':5, 'b':'x'}, 'c', 'b'), Keyword: {'a':5, 'b':'x'}\n",
    "# ^ this one is weird, but the dictionary in the *varg just uses the keys"
   ]
  },
  {
   "cell_type": "markdown",
   "metadata": {},
   "source": [
    "Write at least two more instances of function calls, not listed above, and predict their output. Are they valid or invalid? Check your hypothesis."
   ]
  },
  {
   "cell_type": "code",
   "execution_count": null,
   "metadata": {},
   "outputs": [],
   "source": [
    "# Write two more function calls.\n",
    "# variadic(...)\n",
    "# variadic(...)"
   ]
  },
  {
   "cell_type": "markdown",
   "metadata": {},
   "source": [
    "## Writing Functions\n",
    "Now, lets use our newfound argument knowledge to write some cool functions!"
   ]
  },
  {
   "cell_type": "markdown",
   "metadata": {},
   "source": [
    "### `speak_excitedly`\n",
    "Write a function `speak_excitedly` that accepts one required positional argument (a message) and two optional keyword arguments, the first of which is a positive integer referring to the number of exclamation marks to put at the end of the message (defaulting to `1`), and the second of which is a boolean flag indicating whether or not to capitalize the message (defaulting to `False`).\n",
    "\n",
    "What would the function signature and implementation look like for this function?\n",
    "\n",
    "<details>\n",
    "    <summary><b>Hints</b> (click to expand - but don't check the hints unless you're really stumped!):</summary>\n",
    "    <ul>\n",
    "        <li>Here's a function signature to consider!<br>\n",
    "            <code>def speak_excitedly(message, num_exclamations=1, capitalize=False):</code>\n",
    "    </ul>\n",
    "</details>"
   ]
  },
  {
   "cell_type": "code",
   "execution_count": 53,
   "metadata": {},
   "outputs": [],
   "source": [
    "def speak_excitedly(msg, num_exclaim = 1, capitalize = False):\n",
    "    \"\"\"Print a message, with an optional number of exclamation points and optional capitalization.\"\"\"\n",
    "    msg += '!' * num_exclaim\n",
    "    msg = msg.upper() if capitalize else msg\n",
    "    return msg"
   ]
  },
  {
   "cell_type": "markdown",
   "metadata": {},
   "source": [
    "How would you call this function to produce the following outputs?\n",
    "\n",
    "```Python\n",
    "\"I love Python!\"\n",
    "\"Keyword arguments are great!!!!\"\n",
    "\"I guess Java is okay...\"\n",
    "\"LET'S GO STANFORD!!\"\n",
    "```"
   ]
  },
  {
   "cell_type": "code",
   "execution_count": 55,
   "metadata": {},
   "outputs": [
    {
     "name": "stdout",
     "output_type": "stream",
     "text": [
      "I love Python!\n",
      "Keyword arguments are great!!!!\n",
      "I guess Java is okay...\n",
      "LET'S GO STANFORD!!\n"
     ]
    }
   ],
   "source": [
    "print(speak_excitedly('I love Python', 1))  # => \"I love Python!\"\n",
    "print(speak_excitedly('Keyword arguments are great', 4))  # => \"Keyword arguments are great!!!!\"\n",
    "print(speak_excitedly('I guess Java is okay...', 0))  # => \"I guess Java is okay...\"\n",
    "print(speak_excitedly(\"LET'S GO STANFORD\", 2, True))  # => \"LET'S GO STANFORD!!\""
   ]
  },
  {
   "cell_type": "markdown",
   "metadata": {},
   "source": [
    "### Challenge: `make_table`\n",
    "\n",
    "Write a function to make a table out of an arbitrary number of keyword arguments. For example, \n",
    "\n",
    "```Python\n",
    "make_table(\n",
    "    first_name=\"Parth\",\n",
    "    last_name=\"Sarin\",\n",
    "    favourite_animal=\"unicorn\"\n",
    ")\n",
    "```\n",
    "\n",
    "should produce\n",
    "\n",
    "```\n",
    "===============================\n",
    "|  first_name       |   Parth |\n",
    "|  last_name        |   Sarin |\n",
    "|  favourite_animal | unicorn |\n",
    "===============================\n",
    "```\n",
    "\n",
    "Additionally, there should be two parameters, `key_justify` and `value_justify`, whose default values are `'left'` and `'right'` respectively. These keyword arguments will control the text alignment for keys and values in the table. Valid options for these parameters are `['left', 'right', 'center']`. There should be an extra space of padding on either side of the keys and values. As another example,\n",
    "\n",
    "```Python\n",
    "make_table(\n",
    "    key_justify=\"right\",\n",
    "    value_justify=\"center\",\n",
    "    song=\"Style\",\n",
    "    artist_fullname=\"Taylor $wift\",\n",
    "    album=\"1989\"\n",
    ")\n",
    "```\n",
    "\n",
    "should produce\n",
    "\n",
    "```\n",
    "==================================\n",
    "|            song |     Style    |\n",
    "| artist_fullname | Taylor $wift |\n",
    "|           album |     1989     |\n",
    "==================================\n",
    "```\n",
    "\n",
    "What would the function signature and implementation look like for this function?\n",
    "\n",
    "```\n",
    "def make_table(???):\n",
    "    pass\n",
    "```\n",
    "<details>\n",
    "    <summary><b>Hints</b> (click to expand):</summary>\n",
    "    <ul>\n",
    "        <li>You may find Python's string <code>.format()</code> <a href=\"https://pyformat.info/#string_pad_align\">alignment specifiers</a> useful.\n",
    "    </ul>\n",
    "</details>\n"
   ]
  },
  {
   "cell_type": "code",
   "execution_count": 85,
   "metadata": {},
   "outputs": [],
   "source": [
    "def make_table(key_justify = 'left', value_justify = 'right', **kwargs):\n",
    "    if key_justify not in ('left', 'right', 'center'):\n",
    "        return 'invalid key_justify'\n",
    "    if value_justify not in ('left', 'right', 'center'):\n",
    "        return 'invalid value_justify'\n",
    "    max_k = max([len(k) for k in kwargs.keys()])\n",
    "    max_v = max([len(v) for v in kwargs.values()])\n",
    "    max_space = max_k + max_v + 7 # 3 for |, 4 for whitespaces\n",
    "    \n",
    "    print('=' * max_space)\n",
    "    for k, v in kwargs.items():\n",
    "        k_len, v_len = len(k), len(v)\n",
    "        k_space, v_space = max_k - k_len, max_v - v_len\n",
    "        k_before_space, k_after_space = int(k_space if key_justify == 'right' else math.floor(k_space / 2) if key_justify == 'center' else 0), \\\n",
    "                                        int(k_space if key_justify == 'left' else math.ceil(k_space / 2) if key_justify == 'center' else 0)\n",
    "        v_before_space, v_after_space = int(v_space if value_justify == 'right' else math.floor(v_space / 2) if value_justify == 'center' else 0), \\\n",
    "                                        int(v_space if value_justify == 'left' else math.ceil(v_space / 2) if value_justify == 'center' else 0)\n",
    "        row = '| ' + ' ' * k_before_space + k + ' ' * k_after_space + ' | ' + ' ' * v_before_space + v + ' ' * v_after_space + ' |'\n",
    "        print(row)\n",
    "    print('=' * max_space)\n",
    "    return"
   ]
  },
  {
   "cell_type": "code",
   "execution_count": 86,
   "metadata": {},
   "outputs": [
    {
     "name": "stdout",
     "output_type": "stream",
     "text": [
      "==============================\n",
      "| first_name       |   Parth |\n",
      "| last_name        |   Sarin |\n",
      "| favourite_animal | unicorn |\n",
      "==============================\n"
     ]
    }
   ],
   "source": [
    "make_table(first_name=\"Parth\",\n",
    "    last_name=\"Sarin\",\n",
    "    favourite_animal=\"unicorn\")"
   ]
  },
  {
   "cell_type": "code",
   "execution_count": 87,
   "metadata": {},
   "outputs": [
    {
     "name": "stdout",
     "output_type": "stream",
     "text": [
      "==================================\n",
      "|            song |    Style     |\n",
      "| artist_fullname | Taylor $wift |\n",
      "|           album |     1989     |\n",
      "==================================\n"
     ]
    }
   ],
   "source": [
    "make_table(\n",
    "    key_justify=\"right\",\n",
    "    value_justify=\"center\",\n",
    "    song=\"Style\",\n",
    "    artist_fullname=\"Taylor $wift\",\n",
    "    album=\"1989\"\n",
    ")"
   ]
  },
  {
   "cell_type": "markdown",
   "metadata": {},
   "source": [
    "## Functional Programming\n",
    "Now that we've explored some of the parameter specifications of functions, let's explore the basics of Functional Programming in Python!"
   ]
  },
  {
   "cell_type": "markdown",
   "metadata": {},
   "source": [
    "### Comprehensions\n",
    "Comprehensions are amazing! They're a really crucial piece of Python's functional programming infrastructure.\n",
    "\n",
    "#### Read\n",
    "\n",
    "Predict the output of each of the following list comprehensions. After you have written down your hypothesis, run the code cell to see if you were correct. If you were incorrect, discuss with a partner why Python returns what it does.\n",
    "\n",
    "```Python\n",
    "[x for x in [1, 2, 3, 4]]\n",
    "[n - 2 for n in range(10)]\n",
    "[k % 10 for k in range(41) if k % 3 == 0]\n",
    "[s.lower() for s in ['PythOn', 'iS', 'cOoL'] if s[0] < s[-1]]\n",
    "\n",
    "# Something is fishy here. Can you spot it?\n",
    "arr = [[3,2,1], ['a','b','c'], [('do',), ['re'], 'mi']]\n",
    "print([el.append(el[0] * 4) for el in arr])  # What is printed?\n",
    "print(arr)  # What is the content of `arr` at this point?\n",
    "\n",
    "[letter for letter in \"pYthON\" if letter.isupper()]\n",
    "{len(w) for w in [\"its\", \"the\", \"remix\", \"to\", \"ignition\"]}\n",
    "```"
   ]
  },
  {
   "cell_type": "code",
   "execution_count": 88,
   "metadata": {},
   "outputs": [
    {
     "name": "stdout",
     "output_type": "stream",
     "text": [
      "[1, 2, 3, 4]\n"
     ]
    }
   ],
   "source": [
    "# Predict the output of the following comprehensions. Does the output match what you expect?\n",
    "print([x for x in [1, 2, 3, 4]]) # 1, 2, 3, 4"
   ]
  },
  {
   "cell_type": "code",
   "execution_count": null,
   "metadata": {},
   "outputs": [],
   "source": [
    "print([n - 2 for n in range(10)])"
   ]
  },
  {
   "cell_type": "code",
   "execution_count": null,
   "metadata": {},
   "outputs": [],
   "source": [
    "print([k % 10 for k in range(41) if k % 3 == 0])"
   ]
  },
  {
   "cell_type": "code",
   "execution_count": null,
   "metadata": {},
   "outputs": [],
   "source": [
    "print([s.lower() for s in ['PythOn', 'iS', 'cOoL'] if s[0] < s[-1]])"
   ]
  },
  {
   "cell_type": "code",
   "execution_count": null,
   "metadata": {},
   "outputs": [],
   "source": [
    "# Something is fishy here. Can you spot it?\n",
    "arr = [[3,2,1], ['a','b','c'], [('do',), ['re'], 'mi']]\n",
    "print([el.append(el[0] * 4) for el in arr])  # What is printed?"
   ]
  },
  {
   "cell_type": "code",
   "execution_count": null,
   "metadata": {},
   "outputs": [],
   "source": [
    "print(arr)  # What is the content of `arr` at this point?"
   ]
  },
  {
   "cell_type": "code",
   "execution_count": null,
   "metadata": {},
   "outputs": [],
   "source": [
    "print([letter for letter in \"pYthON\" if letter.isupper()])"
   ]
  },
  {
   "cell_type": "code",
   "execution_count": null,
   "metadata": {},
   "outputs": [],
   "source": [
    "print({len(w) for w in [\"its\", \"the\", \"remix\", \"to\", \"ignition\"]})"
   ]
  },
  {
   "cell_type": "markdown",
   "metadata": {},
   "source": [
    "#### Write\n",
    "\n",
    "Write comprehensions to transform the input data structure into the output data structure:\n",
    "\n",
    "```python\n",
    "[0, 1, 2, 3] -> [1, 3, 5, 7]  # Double and add one\n",
    "['apple', 'orange', 'pear'] -> ['A', 'O', 'P']  # Capitalize first letter\n",
    "['apple', 'orange', 'pear'] -> ['apple', 'pear']  # Contains a 'p'\n",
    "\n",
    "[\"TA_parth\", \"student_poohbear\", \"TA_michael\", \"TA_guido\", \"student_htiek\"] -> [\"parth\", \"michael\", \"guido\"]\n",
    "['apple', 'orange', 'pear'] -> [('apple', 5), ('orange', 6), ('pear', 4)]\n",
    "\n",
    "['apple', 'orange', 'pear'] -> {'apple': 5, 'orange': 6, 'pear': 4}\n",
    "```"
   ]
  },
  {
   "cell_type": "code",
   "execution_count": null,
   "metadata": {},
   "outputs": [],
   "source": [
    "nums = [1, 3, 5, 7]\n",
    "fruits = ['apple', 'orange', 'pear']\n",
    "people = [\"TA_parth\", \"student_poohbear\", \"TA_michael\", \"TA_guido\", \"student_htiek\"]\n",
    "\n",
    "# Add your comprehensions here!"
   ]
  },
  {
   "cell_type": "markdown",
   "metadata": {},
   "source": [
    "### Lambdas\n",
    "\n",
    "Recall that lambda functions are anonymous, unnamed function objects created on the fly, usually to accomplish a small transformation. For example,\n",
    "\n",
    "```Python\n",
    "(lambda val: val ** 2)(5)  # => 25\n",
    "(lambda x, y: x * y)(3, 8)  # => 24\n",
    "(lambda s: s.strip().lower()[:2])('  PyTHon')  # => 'py'\n",
    "```\n",
    "\n",
    "On their own, `lambda`s aren't particularly useful, as demonstrated above, and are almost never created and invoked directly as shown. Usually, `lambda`s are used to avoid creating a formal function definiton for small throwaway functions, not only because they involves less typing (no `def` or `return` statement needed) but also, and perhaps more importantly, because these small functions won't pollute the enclosing namespace and provide the function implementation inline.\n",
    "\n",
    "Lambdas are also frequently used as arguments to or return values from higher-order functions, such as `map` and `filter`."
   ]
  },
  {
   "cell_type": "markdown",
   "metadata": {},
   "source": [
    "### Map\n",
    "\n",
    "Recall from class that `map(func, iterable)` applies a function over elements of an iterable.\n",
    "\n",
    "For each of the following rows, write a single statement using `map` that converts the left column into the right column:\n",
    "\n",
    "| From  | To| \n",
    "| --- | --- | \n",
    "| `['12', '-2', '0']` | `[12, -2, 0]` |\n",
    "| `['hello', 'world']`  | `[5, 5]` |\n",
    "| `['hello', 'world']`|`['olleh', 'dlrow']` |\n",
    "| `range(2, 6)`|`[(2, 4, 8), (3, 9, 27), (4, 16, 64), (5, 25, 125)]` |\n",
    "| `zip(range(2, 5), range(3, 9, 2))`|`[6, 15, 28]` |\n",
    "\n",
    "*Hint: you may need to wrap the output in a `list()` constructor to see it printed to console - that is, `list(map(..., ...))`*"
   ]
  },
  {
   "cell_type": "code",
   "execution_count": 116,
   "metadata": {},
   "outputs": [
    {
     "name": "stdout",
     "output_type": "stream",
     "text": [
      "[12, -2, 0]\n",
      "[5, 5]\n",
      "['olleh', 'dlrow']\n",
      "[(2, 4, 8), (3, 9, 27), (4, 16, 64), (5, 25, 125)]\n",
      "[6, 15, 28]\n"
     ]
    }
   ],
   "source": [
    "# Write `map` expressions to convert the following inputs into the indicated outputs.\n",
    "# ['12', '-2', '0'] --> [12, -2, 0]\n",
    "print(list(map(int, ['12', '-2', '0'])))\n",
    "# ['hello', 'world'] --> [5, 5]\n",
    "print(list(map(len, ['hello', 'world'])))\n",
    "# ['hello', 'world']` --> ['olleh', 'dlrow']\n",
    "print(list(map(lambda x: x[::-1], ['hello', 'world'])))\n",
    "# range(2, 6) --> [(2, 4, 8), (3, 9, 27), (4, 16, 64), (5, 25, 125)]\n",
    "print(list(map(lambda x: tuple(x**n for n in range(1, 4)), range(2, 6))))\n",
    "# zip(range(2, 5), range(3, 9, 2)) --> [6, 15, 28]\n",
    "print(list(map(lambda x: x[0] * x[1], zip(range(2, 5), range(3, 9, 2)))))"
   ]
  },
  {
   "cell_type": "markdown",
   "metadata": {},
   "source": [
    "### Filter\n",
    "\n",
    "Recall from class that `filter(pred, iterable)` keeps only those elements from an iterable that satisfy a predicate function.\n",
    "\n",
    "Write statements using `filter` that convert the following sequences from the left column to the right column:\n",
    "\n",
    "From  | To\n",
    "--- | ---\n",
    "`['12', '-2', '0']` | `['12', '0']`\n",
    "`['hello', 'world']`  | `['world']`\n",
    "`['Stanford', 'Cal', 'UCLA']`|`['Stanford']`\n",
    "`range(20)`|`[0, 3, 5, 6, 9, 10, 12, 15, 18]`\n",
    "\n",
    "As before, you may have to wrap the result in a call to `list(...)` to produce the filtered output."
   ]
  },
  {
   "cell_type": "code",
   "execution_count": 119,
   "metadata": {},
   "outputs": [
    {
     "name": "stdout",
     "output_type": "stream",
     "text": [
      "['12', '0']\n",
      "['world']\n",
      "['Stanford']\n",
      "[0, 3, 5, 6, 9, 10, 12, 15, 18]\n"
     ]
    }
   ],
   "source": [
    "# Write `filter` expressions to convert the following inputs into the indicated outputs.\n",
    "# ['12', '-2', '0'] --> ['12', '0']\n",
    "print(list(filter(lambda x: '-' not in x, ['12', '-2', '0'])))\n",
    "# ['hello', 'world'] --> ['world']\n",
    "print(list(filter(lambda x: x == 'world', ['hello', 'world'])))\n",
    "# ['Stanford', 'Cal', 'UCLA'] --> ['Stanford']\n",
    "print(list(filter(lambda x: x == 'Stanford', ['Stanford', 'Cal', 'UCLA'])))\n",
    "# range(20) --> [0, 3, 5, 6, 9, 10, 12, 15, 18]\n",
    "print(list(filter(lambda x: x % 3 == 0 or x % 5 == 0, range(20))))"
   ]
  },
  {
   "cell_type": "markdown",
   "metadata": {},
   "source": [
    "### Useful Tools from the Standard Library (optional)"
   ]
  },
  {
   "cell_type": "markdown",
   "metadata": {},
   "source": [
    "#### Module: `functools`\n",
    "The `functools` module is a module in the standard library \"for higher order functions; functions that act on or return other functions.\"\n",
    "\n",
    "There is a utility in the `functools` module called `reduce`, which in Python 2.x was a builtin language feature but has since been relegated to this module. The `reduce` function is explained best by the [official documentation](https://docs.python.org/3/library/functools.html#functools.reduce):\n",
    "\n",
    "##### `functools.reduce(function, iterable[, initializer])`\n",
    "> Apply `function` of two arguments cumulatively to the items of `iterable`, from left to right, so as to reduce the iterable to a single value. For example, `functools.reduce(lambda x, y: x + y, [1, 2, 3, 4, 5])` calculates `((((1 + 2) + 3) + 4) + 5)`. The left argument, `x`, is the accumulated value and the right argument, `y`, is the update value from the sequence. If the optional `initializer` is present, it is placed before the items of the sequence in the calculation, and serves as a default when the iterable is empty. If `initializer` is not given and `iterable` contains only one item, the first item is returned.\n",
    "\n",
    "Use the `reduce` function to find the least common multiple (LCM) of an arbitrary amount of positive integer arguments. This can be accomplished in one line of Python. If no numbers are supplied to the function, you can return the value 1.\n",
    "\n",
    "Hint: Recall that, mathematically, the LCM of two numbers `x` and `y` can be expressed as `(x*y) // gcd(x, y)`, and that the LCM of a list of numbers `[x, y, z, ...]` is the same as the `LCM(...(LCM(LCM(x, y), z), ...)`."
   ]
  },
  {
   "cell_type": "code",
   "execution_count": 121,
   "metadata": {},
   "outputs": [
    {
     "name": "stdout",
     "output_type": "stream",
     "text": [
      "15\n",
      "26076\n",
      "720\n",
      "3\n",
      "1\n"
     ]
    }
   ],
   "source": [
    "from functools import reduce\n",
    "from math import gcd\n",
    "\n",
    "def lcm(*nums):\n",
    "    \"\"\"Return the least common multiple of an arbitrary collection of numbers.\"\"\"\n",
    "    return 1 if not nums else reduce(lambda x, y: (x * y) // gcd(x, y), nums) # Your implementation here. Use `reduce`. This function can be implemented in only one line!\n",
    "\n",
    "print(lcm(3, 5))\n",
    "print(lcm(41, 106, 12))\n",
    "print(lcm(1, 2, 6, 24, 120, 720))\n",
    "print(lcm(3))\n",
    "print(lcm())"
   ]
  },
  {
   "cell_type": "markdown",
   "metadata": {},
   "source": [
    "#### Custom comparison for `sort`, `max`, and `min`\n",
    "\n",
    "When ordering sequences, or finding the largest or smallest element of a sequence, Python defaults to a standard ordering for sequence elements of certain types. For instance, a collection of strings will be sorted alphabetically (by ASCII value), and a collection of tuples will sort lexicographically. Sometimes, however, we need to sort based on a custom key value. In Python, we can supply an optional `key` argument to `sorted(seq)`, `max(seq)`, `min(seq)`, or `seq.sort()` to determine the values used for ordering elements in a sequence. In Python, both `sorted(seq)` and `seq.sort()` are stable.\n",
    "\n",
    "Read the following code examples and see if you can justify to your neighbor why Python produces the answers it does in these cases.\n",
    "\n",
    "```Python\n",
    "words = ['pear', 'cabbage', 'apple', 'bananas']\n",
    "min(words)  # => 'apple'\n",
    "words.sort(key=lambda s: s[-1])  # Alternatively, key=operator.itemgetter(-1)\n",
    "words  # => ['cabbage', 'apple', 'pear', 'bananas'] ... Why 'cabbage' > 'apple'?\n",
    "max(words, key=len)  # 'cabbage' ... Why not 'bananas'?\n",
    "min(words, key=lambda s: s[1::2])  # What will this value be?\n",
    "```\n",
    "\n",
    "Next, write a function to return the two words with the highest alphanumeric score of uppercase letters. We've provided a function that computes the alphanumeric score of supplied letters, which must be a string containing only uppercase letters. You may want to use `filter` in conjunction with any other functions we've seen."
   ]
  },
  {
   "cell_type": "code",
   "execution_count": null,
   "metadata": {},
   "outputs": [],
   "source": [
    "def alpha_score(upper_letters):\n",
    "    \"\"\"\n",
    "    Computes the alphanumeric sum of letters in a string.\n",
    "    Prerequisite: upper_letters is composed entirely of capital letters.\n",
    "    \"\"\"\n",
    "    return sum(map(lambda l: 1 + ord(l) - ord('A'), upper_letters))\n",
    "\n",
    "def two_best(words):\n",
    "    pass\n",
    "\n",
    "print(two_best(['hEllO', 'wOrLD', 'i', 'aM', 'PyThOn']))\n",
    "# => ['PyThOn', 'wOrLD']"
   ]
  },
  {
   "cell_type": "markdown",
   "metadata": {},
   "source": [
    "## Iterators\n",
    "\n",
    "Recall from class than an iterator is an object that represents a stream of data delivered one value at a time."
   ]
  },
  {
   "cell_type": "markdown",
   "metadata": {},
   "source": [
    "### Iterator Consumption\n",
    "Suppose the following two lines of code have been run:\n",
    "\n",
    "```Python\n",
    "it = iter(range(100))\n",
    "67 in it  # => True\n",
    "```\n",
    "\n",
    "What is the result of running each of the following lines of code?\n",
    "\n",
    "```Python\n",
    "next(it)  # => ??\n",
    "37 in it  # => ??\n",
    "next(it)  # => ??\n",
    "```\n",
    "\n",
    "With a partner, discuss why we see these results."
   ]
  },
  {
   "cell_type": "code",
   "execution_count": 126,
   "metadata": {},
   "outputs": [
    {
     "name": "stdout",
     "output_type": "stream",
     "text": [
      "68\n",
      "False\n",
      "False\n",
      "False\n",
      "False\n"
     ]
    },
    {
     "ename": "StopIteration",
     "evalue": "",
     "output_type": "error",
     "traceback": [
      "\u001b[0;31m---------------------------------------------------------------------------\u001b[0m",
      "\u001b[0;31mStopIteration\u001b[0m                             Traceback (most recent call last)",
      "\u001b[0;32m<ipython-input-126-992203bf8d8f>\u001b[0m in \u001b[0;36m<module>\u001b[0;34m\u001b[0m\n\u001b[1;32m      7\u001b[0m \u001b[0mprint\u001b[0m\u001b[0;34m(\u001b[0m\u001b[0;36m70\u001b[0m \u001b[0;32min\u001b[0m \u001b[0mit\u001b[0m\u001b[0;34m)\u001b[0m\u001b[0;34m\u001b[0m\u001b[0;34m\u001b[0m\u001b[0m\n\u001b[1;32m      8\u001b[0m \u001b[0mprint\u001b[0m\u001b[0;34m(\u001b[0m\u001b[0;36m37\u001b[0m \u001b[0;32min\u001b[0m \u001b[0mit\u001b[0m\u001b[0;34m)\u001b[0m  \u001b[0;31m# => ??\u001b[0m\u001b[0;34m\u001b[0m\u001b[0;34m\u001b[0m\u001b[0m\n\u001b[0;32m----> 9\u001b[0;31m \u001b[0mprint\u001b[0m\u001b[0;34m(\u001b[0m\u001b[0mnext\u001b[0m\u001b[0;34m(\u001b[0m\u001b[0mit\u001b[0m\u001b[0;34m)\u001b[0m\u001b[0;34m)\u001b[0m  \u001b[0;31m# => ??\u001b[0m\u001b[0;34m\u001b[0m\u001b[0;34m\u001b[0m\u001b[0m\n\u001b[0m",
      "\u001b[0;31mStopIteration\u001b[0m: "
     ]
    }
   ],
   "source": [
    "it = iter(range(100))\n",
    "67 in it  # => True\n",
    "\n",
    "print(next(it))  # => ??\n",
    "print(67 in it)\n",
    "print(68 in it)\n",
    "print(70 in it)\n",
    "print(37 in it)  # => ??\n",
    "print(next(it))  # => ??"
   ]
  },
  {
   "cell_type": "markdown",
   "metadata": {},
   "source": [
    "### Module: `itertools`\n",
    "\n",
    "Python ships with a spectacular module for manipulating iterators called `itertools`. Take a moment to read through the [documentation page for itertools](https://docs.python.org/3/library/itertools.html).\n",
    "\n",
    "Predict the output of the following pieces of code:\n",
    "\n",
    "```Python\n",
    "import itertools\n",
    "import operator\n",
    "\n",
    "for el in itertools.permutations('XKCD', 2):\n",
    "    print(el, end=', ')\n",
    "\n",
    "for el in itertools.cycle('LO'):\n",
    "    print(el, end='')  # Don't run this one. Why not?\n",
    "\n",
    "itertools.starmap(operator.mul, itertools.zip_longest([3,5,7],[2,3], fillvalue=1))\n",
    "```"
   ]
  },
  {
   "cell_type": "code",
   "execution_count": 128,
   "metadata": {},
   "outputs": [
    {
     "name": "stdout",
     "output_type": "stream",
     "text": [
      "('X', 'K'), ('X', 'C'), ('X', 'D'), ('K', 'X'), ('K', 'C'), ('K', 'D'), ('C', 'X'), ('C', 'K'), ('C', 'D'), ('D', 'X'), ('D', 'K'), ('D', 'C'), \n",
      "('X', 'K'), ('X', 'C'), ('X', 'D'), ('K', 'C'), ('K', 'D'), ('C', 'D'), \n",
      "[6, 15, 7]\n"
     ]
    }
   ],
   "source": [
    "import itertools\n",
    "import operator\n",
    "\n",
    "for el in itertools.permutations('XKCD', 2):\n",
    "    print(el, end=', ')\n",
    "print()\n",
    "\n",
    "for el in itertools.combinations('XKCD', 2):\n",
    "    print(el, end=', ')\n",
    "print()\n",
    "\n",
    "# for el in itertools.cycle('LO'):\n",
    "#     print(el, end='')  # Don't run this one. Why not?\n",
    "\n",
    "print(list(itertools.starmap(operator.mul, itertools.zip_longest([3,5,7],[2,3], fillvalue=1))))"
   ]
  },
  {
   "cell_type": "markdown",
   "metadata": {},
   "source": [
    "## Generators"
   ]
  },
  {
   "cell_type": "markdown",
   "metadata": {},
   "source": [
    "### Triangle Generator\n",
    "\n",
    "Write a infinite generator that successively yields the triangle numbers `0, 1, 3, 6, 10, ...` which are formed by successively adding sequential positive integers (`3 = 1 + 2`, `6 = 1 + 2 + 3`, `10 = 1 + 2 + 3 + 4`, ...)."
   ]
  },
  {
   "cell_type": "code",
   "execution_count": 129,
   "metadata": {},
   "outputs": [
    {
     "name": "stdout",
     "output_type": "stream",
     "text": [
      "0\n",
      "1\n",
      "3\n",
      "6\n",
      "10\n"
     ]
    }
   ],
   "source": [
    "def generate_triangles():\n",
    "    \"\"\"Generate an infinite stream of triangle numbers.\"\"\"\n",
    "    current, next_add = 0, 0\n",
    "    while True: \n",
    "        current, next_add = current + next_add, next_add + 1\n",
    "        yield current\n",
    "\n",
    "g = generate_triangles()\n",
    "# Print the first 5 generated triangle numbers. Should be 0, 1, 3, 6, 10\n",
    "for _ in range(5):\n",
    "    print(next(g))"
   ]
  },
  {
   "cell_type": "markdown",
   "metadata": {},
   "source": [
    "Use your generator to write a function `triangles_under(n)` that prints out all triangle numbers strictly less than the parameter `n`."
   ]
  },
  {
   "cell_type": "code",
   "execution_count": 132,
   "metadata": {},
   "outputs": [
    {
     "name": "stdout",
     "output_type": "stream",
     "text": [
      "0\n",
      "1\n",
      "3\n"
     ]
    }
   ],
   "source": [
    "def triangles_under(n): \n",
    "    for triangle in generate_triangles():\n",
    "        if triangle >= n:\n",
    "            break\n",
    "        print(triangle)\n",
    "\n",
    "triangles_under(5)"
   ]
  },
  {
   "cell_type": "markdown",
   "metadata": {},
   "source": [
    "## Linear Algebra (Challenge)\n",
    "\n",
    "These challenge problems test your ability to write compact Python functions using the tools of functional programming and some good old-fashioned cleverness. As always, these challenge problems are optional, and are much harder than the rest of the lab. These challenge problems also focus heavily on linear algebra, so if you are less familiar with linear algebra concepts, we recommend that you skip over this portion.\n",
    "\n",
    "Also, Python has incredible library support for working with these mathematical concepts through a package named `numpy`, so we will almost never write linear algebra code from scratch."
   ]
  },
  {
   "cell_type": "markdown",
   "metadata": {},
   "source": [
    "### Dot Product\n",
    "Write a one-liner in Python that takes the dot product of two lists `u` and `v`. You can assume that the lists are the same size, and are standard Python lists (not anything special, like `numpy.ndarray`s). For example, `dot_product([1, 3, 5], [2, 4, 6])` should return `44` (since `1 * 2 + 3 * 4 + 5 * 6 = 44`)."
   ]
  },
  {
   "cell_type": "code",
   "execution_count": 134,
   "metadata": {},
   "outputs": [
    {
     "data": {
      "text/plain": [
       "[(1, 3), (2, 4)]"
      ]
     },
     "execution_count": 134,
     "metadata": {},
     "output_type": "execute_result"
    }
   ],
   "source": [
    "list(zip([1 ,2], [3, 4]))"
   ]
  },
  {
   "cell_type": "code",
   "execution_count": 135,
   "metadata": {},
   "outputs": [],
   "source": [
    "def dot_product(u, v):\n",
    "    \"\"\"Return the dot product of two equal-length lists of numbers.\"\"\"\n",
    "    return sum(map(lambda x: x[0] * x[1], zip(u, v)))"
   ]
  },
  {
   "cell_type": "code",
   "execution_count": 137,
   "metadata": {},
   "outputs": [
    {
     "name": "stdout",
     "output_type": "stream",
     "text": [
      "11\n",
      "44\n"
     ]
    }
   ],
   "source": [
    "print(dot_product([1, 2], [3, 4]))\n",
    "print(dot_product([1, 3, 5], [2, 4, 6]))"
   ]
  },
  {
   "cell_type": "markdown",
   "metadata": {},
   "source": [
    "### Matrix Transposition\n",
    "Write a one-liner in Python to transpose a matrix. Assume that the input matrix is a tuple-of-tuples that represents a valid matrix, not necessarily square. Again, do not use `numpy` or any other libraries - just raw data structure manipulation and our functional tools.\n",
    "\n",
    "Not only can you do this in one line - you can even do it in 14 characters!\n",
    "\n",
    "For example,\n",
    "\n",
    "```Python\n",
    "matrix = (\n",
    "    (1, 2, 3, 4),\n",
    "    (5, 6, 7, 8),\n",
    "    (9,10,11,12)\n",
    ")\n",
    "\n",
    "transpose(matrix)\n",
    "# returns \n",
    "# (\n",
    "#     (1, 5, 9),\n",
    "#     (2, 6, 10),\n",
    "#     (3, 7, 11),\n",
    "#     (4, 8, 12)\n",
    "# )\n",
    "```"
   ]
  },
  {
   "cell_type": "code",
   "execution_count": 165,
   "metadata": {},
   "outputs": [],
   "source": [
    "def transpose(m):\n",
    "    \"\"\"Return the transpose of a matrix represented as a rectangular tuple-of-tuples.\"\"\"\n",
    "    return tuple(zip(*m))"
   ]
  },
  {
   "cell_type": "code",
   "execution_count": 166,
   "metadata": {},
   "outputs": [
    {
     "data": {
      "text/plain": [
       "((1, 5, 9), (2, 6, 10), (3, 7, 11), (4, 8, 12))"
      ]
     },
     "execution_count": 166,
     "metadata": {},
     "output_type": "execute_result"
    }
   ],
   "source": [
    "matrix = (\n",
    "    (1, 2, 3, 4),\n",
    "    (5, 6, 7, 8),\n",
    "    (9,10,11,12)\n",
    ")\n",
    "transpose(matrix)"
   ]
  },
  {
   "cell_type": "markdown",
   "metadata": {},
   "source": [
    "### Matrix Multiplication\n",
    "Write another one-liner in Python to take the product of two matrices `m1` and `m2`. You can use the `dot_product` and `transpose` functions you already wrote."
   ]
  },
  {
   "cell_type": "code",
   "execution_count": null,
   "metadata": {},
   "outputs": [],
   "source": [
    "def matmul(m1, m2):\n",
    "    \"\"\"Return the matrix multiplication of two matrices as rectangular 2D tuples.\"\"\"\n",
    "    pass"
   ]
  },
  {
   "cell_type": "markdown",
   "metadata": {},
   "source": [
    "### Lazy Generation\n",
    "Rewrite your `transpose` and `matmul` functions above so that they are lazily evaluated. That is, rows (or columns) of the output matrix shouldn't be computed when the function is called.\n",
    "\n",
    "*Hint*: Remember how Michael described generators as \"lazy\"? Try to use that!"
   ]
  },
  {
   "cell_type": "code",
   "execution_count": null,
   "metadata": {},
   "outputs": [],
   "source": [
    "def transpose_lazy(m):\n",
    "    pass\n",
    "\n",
    "def matmul_lazy(m1, m2):\n",
    "    pass"
   ]
  },
  {
   "cell_type": "markdown",
   "metadata": {},
   "source": [
    "## Building Decorators\n",
    "\n",
    "Recall that a decorator is a special type of function that accepts a function as an argument and returns a new function which (usually) wraps some of the behavior of the supplied function.\n",
    "\n",
    "Furthermore, recall that the `@decorator` syntax is syntactic sugar.\n",
    "\n",
    "```Python\n",
    "@decorator\n",
    "def fn():\n",
    "    pass\n",
    "```\n",
    "\n",
    "is equivalent to\n",
    "\n",
    "```Python\n",
    "def fn():\n",
    "    pass\n",
    "fn = decorator(fn)\n",
    "```"
   ]
  },
  {
   "cell_type": "markdown",
   "metadata": {},
   "source": [
    "### Review\n",
    "\n",
    "In lecture, we implemented the `debug` decorator.\n",
    "\n",
    "```Python\n",
    "def debug(function):\n",
    "    def wrapper(*args, **kwargs):\n",
    "        print(\"Arguments:\", args, kwargs)\n",
    "        return function(*args, **kwargs)\n",
    "    return wrapper\n",
    "```\n",
    "\n",
    "Take a moment, with a partner, and make sure you understand what is happening in the above lines. Why are the arguments to wrapper on the second line `*args` and `**kwargs` instead of something else? What would happen if we didn't `return wrapper` at the end of the function body?"
   ]
  },
  {
   "cell_type": "markdown",
   "metadata": {},
   "source": [
    "### Time It!\n",
    "Let's write a decorator that'll time how long it takes a function to execute. The decorator should:\n",
    "1. Run the function.\n",
    "2. Compare the time before and after the function ran to compute how long the function took to run and print out the difference, in milliseconds. (*Note*: `time.time()` returns the number of seconds since the epoch)\n",
    "3. Return the same value that the function returned.\n",
    "\n",
    "Python's standard library has a function to do this! It's in the `timeit` module, which you can read about [here](https://docs.python.org/3/library/timeit.html). Refrain from using that module for this part of the assignment. Instead, use `time`, which you can read about [here]()!"
   ]
  },
  {
   "cell_type": "code",
   "execution_count": 170,
   "metadata": {},
   "outputs": [
    {
     "name": "stdout",
     "output_type": "stream",
     "text": [
      "Took 0.2953348159790039 seconds to run\n",
      "1346269\n",
      "Took 3.814697265625e-06 seconds to run\n",
      "1346269\n"
     ]
    }
   ],
   "source": [
    "import time\n",
    "\n",
    "def timeit(fn):\n",
    "    \"\"\"\n",
    "    Decorator that prints out the duration that a function took to execute.\n",
    "    \n",
    "    Arguments:\n",
    "        fn (function) -- The function to time.\n",
    "    \"\"\"\n",
    "    def wrapper(*args, **kwargs):\n",
    "        start_time = time.time()\n",
    "        fn_return = fn(*args, **kwargs)\n",
    "        end_time = time.time()\n",
    "        print('Took {} seconds to run'.format(end_time - start_time))\n",
    "        return fn_return\n",
    "    return wrapper\n",
    "\n",
    "@timeit\n",
    "def slow_fibbi(n):\n",
    "    \"\"\"\n",
    "    Uses recursion to compute the nth Fibonacci number really really slowly.\n",
    "    \n",
    "    *Note*: The reason that we use a lambda to do recursion here is because if we\n",
    "    were to recurse using slow_fibbi itself, it would be decorated, so it'd print\n",
    "    out the time that it takes to complete for every iteration.\n",
    "    \n",
    "    Arguments:\n",
    "        n (int) -- The index of the Fibonacci number to compute.\n",
    "    \"\"\"\n",
    "    fib = lambda n: fib(n-1) + fib(n-2) if n >= 2 else 1\n",
    "    return fib(n)\n",
    "\n",
    "@timeit\n",
    "def fast_fibbi(n):\n",
    "    \"\"\"\n",
    "    Uses a while loop to quickly compute the nth Fibonacci number.\n",
    "    \n",
    "    Arguments:\n",
    "        n (int) -- The index of the Fibonacci number to compute.\n",
    "    \"\"\"\n",
    "    a, b = 1, 1\n",
    "    for i in range(n):\n",
    "        a, b = b, a + b\n",
    "    return a\n",
    "\n",
    "print(slow_fibbi(30))\n",
    "print(fast_fibbi(30))"
   ]
  },
  {
   "cell_type": "markdown",
   "metadata": {},
   "source": [
    "#### Time It Options (Challenge)\n",
    "Running the function once doesn't give us enough of an understanding about how long a function really takes. Add an option to the `timeit` decorator called `num_iterations` that allows the user to specify how many times they want the function to be run.\n",
    "\n",
    "The modified function should run the original function `num_iterations` many times and then print out an average duration that the function took to run."
   ]
  },
  {
   "cell_type": "markdown",
   "metadata": {},
   "source": [
    "# [This](https://stackoverflow.com/questions/739654/how-to-make-a-chain-of-function-decorators) link was very helpful for understanding calling multiple layers of functions "
   ]
  },
  {
   "cell_type": "code",
   "execution_count": 176,
   "metadata": {},
   "outputs": [
    {
     "name": "stdout",
     "output_type": "stream",
     "text": [
      "Average seconds taken: 0.2688096523284912\n",
      "1346269\n",
      "Average seconds taken: 2.002716064453125e-06\n",
      "1346269\n"
     ]
    }
   ],
   "source": [
    "import time\n",
    "\n",
    "def timeit_challenge(num_iterations=1):\n",
    "    \"\"\"\n",
    "    Decorator that prints out the duration that a function took to execute.\n",
    "    \n",
    "    Arguments:\n",
    "        num_iterations -- The number of times to run the function.\n",
    "    \"\"\"\n",
    "    def wrapper(fn):\n",
    "        def inner_fn(*args, **kwargs): \n",
    "            start = time.time()\n",
    "            for i in range(num_iterations):\n",
    "                return_val = fn(*args, **kwargs)\n",
    "            end = time.time()\n",
    "            avg_time = (end - start) / num_iterations\n",
    "            print('Average seconds taken: {}'.format(avg_time))\n",
    "            return return_val\n",
    "        return inner_fn\n",
    "    return wrapper\n",
    "    \n",
    "@timeit_challenge(num_iterations=5)\n",
    "def slow_fibbi(n):\n",
    "    \"\"\"\n",
    "    Uses recursion to compute the nth Fibonacci number really really slowly.\n",
    "    \n",
    "    *Note*: The reason that we use a lambda to do recursion here is because if we\n",
    "    were to recurse using slow_fibbi itself, it would be decorated, so it'd print\n",
    "    out the time that it takes to complete for every iteration.\n",
    "    \n",
    "    Arguments:\n",
    "        n (int) -- The index of the Fibonacci number to compute.\n",
    "    \"\"\"\n",
    "    fib = lambda n: fib(n-1) + fib(n-2) if n >= 2 else 1\n",
    "    return fib(n)\n",
    "\n",
    "@timeit_challenge(num_iterations=5)\n",
    "def fast_fibbi(n):\n",
    "    \"\"\"\n",
    "    Uses a while loop to quickly compute the nth Fibonacci number.\n",
    "    \n",
    "    Arguments:\n",
    "        n (int) -- The index of the Fibonacci number to compute.\n",
    "    \"\"\"\n",
    "    a, b = 1, 1\n",
    "    for i in range(n):\n",
    "        a, b = b, a + b\n",
    "    return a\n",
    "\n",
    "print(slow_fibbi(30))\n",
    "print(fast_fibbi(30))"
   ]
  },
  {
   "cell_type": "markdown",
   "metadata": {},
   "source": [
    "# Credit\n",
    "There are so many people to thank for the problems in this lab. Sam Redmond (@sredmond), most notably, assembled some of these problems. Major credit to PSF for incredibly clear/readable documentation making this all possible, as well as the linked resources. Additional credit goes to a lot of websites, whose names I've unfortunately forgotten along the way. Credit to everyone!"
   ]
  },
  {
   "cell_type": "markdown",
   "metadata": {},
   "source": [
    "> With &#129412;s by @psarin and @coopermj"
   ]
  }
 ],
 "metadata": {
  "kernelspec": {
   "display_name": "Python 3",
   "language": "python",
   "name": "python3"
  },
  "language_info": {
   "codemirror_mode": {
    "name": "ipython",
    "version": 3
   },
   "file_extension": ".py",
   "mimetype": "text/x-python",
   "name": "python",
   "nbconvert_exporter": "python",
   "pygments_lexer": "ipython3",
   "version": "3.7.6"
  }
 },
 "nbformat": 4,
 "nbformat_minor": 2
}
