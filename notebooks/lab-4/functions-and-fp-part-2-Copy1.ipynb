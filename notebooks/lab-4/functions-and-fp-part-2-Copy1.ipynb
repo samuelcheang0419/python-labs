{
 "cells": [
  {
   "cell_type": "code",
   "execution_count": 130,
   "metadata": {},
   "outputs": [],
   "source": [
    "import time\n",
    "from functools import wraps\n",
    "from collections import OrderedDict\n",
    "import random\n",
    "import inspect"
   ]
  },
  {
   "cell_type": "markdown",
   "metadata": {},
   "source": [
    "# Lab 4: Functions and Functional Programming (Part 2)\n",
    "Look at you go! Congratulations on making it to the second part of the lab!\n",
    "\n",
    "These assignments are *absolutely not required*! Even if you're here, you may find it more valuable to skim the problems here and attempt the problems that are most interesting to you - and that's perfectly fine. Don't feel any need to complete them in sequential order at this point.\n",
    "\n",
    "I'm honestly WAYYYY more psyched about the functional programming stuff than the functions stuff (don't tell anyone &#128064;) so let's start there!"
   ]
  },
  {
   "cell_type": "markdown",
   "metadata": {},
   "source": [
    "## Building Decorators"
   ]
  },
  {
   "cell_type": "markdown",
   "metadata": {},
   "source": [
    "### Automatic Caching\n",
    "In class, we wrote a decorator `memoize` that will automatically caches any calls to the decorated function. You can assume that all arguments passed to the decorated function will always be hashable types.\n",
    "\n",
    "```Python\n",
    "def memoize(function):\n",
    "    cache = {}\n",
    "    def memoized_fn(*args):\n",
    "        if args not in cache:\n",
    "            cache[args] = function(*args)\n",
    "        return cache[args]\n",
    "    return memoized_fn\n",
    "```\n",
    "\n",
    "We saw how one use case for this in class:\n",
    "\n",
    "```Python\n",
    "@memoize\n",
    "def fib(n):\n",
    "    return fib(n-1) + fib(n-2) if n > 2 else 1\n",
    "\n",
    "fib(10)  # 55 (takes a moment to execute)\n",
    "fib(10)  # 55 (returns immediately)\n",
    "fib(100) # doesn't take forever\n",
    "fib(400) # doesn't raise RuntimeError\n",
    "```\n",
    "\n",
    "#### Cache Options (Challenge)\n",
    "\n",
    "Add `maxsize` and `eviction_policy` keyword arguments, with reasonable defaults (perhaps `maxsize=None` as a sentinel), to your `cache` decorator. `eviction_policy` should be one of `'LRU'`, `'MRU'`, or `'random'`. It can be tricky to figure out how to construct a decorator with arguments.\n",
    "\n",
    "Also, add function attributes called `.cache_info` and `.cache_clear` which can be called to get aggregate statistics about the cache  and clear the cache, respectively.\n",
    "\n",
    "*Note*: This caching decorator (with arguments!) is actually implemented as part of the language in `functools.lru_cache`"
   ]
  },
  {
   "cell_type": "code",
   "execution_count": 12,
   "metadata": {},
   "outputs": [
    {
     "data": {
      "text/plain": [
       "9227465"
      ]
     },
     "execution_count": 12,
     "metadata": {},
     "output_type": "execute_result"
    }
   ],
   "source": [
    "def fib_no_decorators(n):\n",
    "    return fib_no_decorators(n-1) + fib_no_decorators(n-2) if n > 2 else 1\n",
    "fib_no_decorators(35)"
   ]
  },
  {
   "cell_type": "code",
   "execution_count": 2,
   "metadata": {},
   "outputs": [],
   "source": [
    "def timeit(fn):\n",
    "    \"\"\"\n",
    "    Decorator that prints out the duration that a function took to execute.\n",
    "    \n",
    "    Arguments:\n",
    "        fn (function) -- The function to time.\n",
    "    \"\"\"\n",
    "    def wrapper(*args, **kwargs):\n",
    "        start_time = time.time()\n",
    "        fn_return = fn(*args, **kwargs)\n",
    "        end_time = time.time()\n",
    "        print('Took {} seconds to run'.format(end_time - start_time))\n",
    "        return fn_return\n",
    "    return wrapper"
   ]
  },
  {
   "cell_type": "markdown",
   "metadata": {},
   "source": [
    "# Interesting note to self: decorators with recursive functions may not work as you'd like it to because each recursive call triggers a new instance of the decorator, whereas sometime you may only want the initial decorator call (such as with timers)"
   ]
  },
  {
   "cell_type": "code",
   "execution_count": 16,
   "metadata": {},
   "outputs": [
    {
     "name": "stdout",
     "output_type": "stream",
     "text": [
      "Took 7.210106134414673 seconds to run\n"
     ]
    },
    {
     "data": {
      "text/plain": [
       "39088169"
      ]
     },
     "execution_count": 16,
     "metadata": {},
     "output_type": "execute_result"
    }
   ],
   "source": [
    "@timeit\n",
    "def fib_with_timeit(n):\n",
    "    return fib_no_decorators(n-1) + fib_no_decorators(n-2) if n > 2 else 1\n",
    "fib_with_timeit(38)"
   ]
  },
  {
   "cell_type": "code",
   "execution_count": 28,
   "metadata": {},
   "outputs": [],
   "source": [
    "def memoize(maxsize = None, eviction_policy = 'LRU'):\n",
    "    assert eviction_policy in ('LRU', 'MRU', 'random'), \\\n",
    "        'i wrote this: eviction_policy argument invalid - must be LRU, MRU or random'\n",
    "    cache = {}\n",
    "    def fn_wrapper(fn):\n",
    "        def wrapper(*args):\n",
    "            for arg in args:\n",
    "                if arg in cache:\n",
    "                    return cache[arg]\n",
    "                else:\n",
    "                    cache[arg] = fn(*args)\n",
    "                    return cache[arg]\n",
    "        return wrapper\n",
    "    return fn_wrapper"
   ]
  },
  {
   "cell_type": "code",
   "execution_count": 29,
   "metadata": {},
   "outputs": [
    {
     "ename": "AssertionError",
     "evalue": "i wrote this: eviction_policy argument invalid - must be LRU, MRU or random",
     "output_type": "error",
     "traceback": [
      "\u001b[0;31m---------------------------------------------------------------------------\u001b[0m",
      "\u001b[0;31mAssertionError\u001b[0m                            Traceback (most recent call last)",
      "\u001b[0;32m<ipython-input-29-69ac8dd52691>\u001b[0m in \u001b[0;36m<module>\u001b[0;34m\u001b[0m\n\u001b[0;32m----> 1\u001b[0;31m \u001b[0;34m@\u001b[0m\u001b[0mmemoize\u001b[0m\u001b[0;34m(\u001b[0m\u001b[0meviction_policy\u001b[0m \u001b[0;34m=\u001b[0m \u001b[0;34m'hi'\u001b[0m\u001b[0;34m)\u001b[0m\u001b[0;34m\u001b[0m\u001b[0;34m\u001b[0m\u001b[0m\n\u001b[0m\u001b[1;32m      2\u001b[0m \u001b[0;32mdef\u001b[0m \u001b[0mblah\u001b[0m\u001b[0;34m(\u001b[0m\u001b[0mn\u001b[0m\u001b[0;34m)\u001b[0m\u001b[0;34m:\u001b[0m\u001b[0;34m\u001b[0m\u001b[0;34m\u001b[0m\u001b[0m\n\u001b[1;32m      3\u001b[0m     \u001b[0mprint\u001b[0m\u001b[0;34m(\u001b[0m\u001b[0mn\u001b[0m\u001b[0;34m)\u001b[0m\u001b[0;34m\u001b[0m\u001b[0;34m\u001b[0m\u001b[0m\n\u001b[1;32m      4\u001b[0m \u001b[0;34m\u001b[0m\u001b[0m\n\u001b[1;32m      5\u001b[0m \u001b[0mblah\u001b[0m\u001b[0;34m(\u001b[0m\u001b[0;36m3\u001b[0m\u001b[0;34m)\u001b[0m\u001b[0;34m\u001b[0m\u001b[0;34m\u001b[0m\u001b[0m\n",
      "\u001b[0;32m<ipython-input-28-ccf280a796ed>\u001b[0m in \u001b[0;36mmemoize\u001b[0;34m(maxsize, eviction_policy)\u001b[0m\n\u001b[1;32m      1\u001b[0m \u001b[0;32mdef\u001b[0m \u001b[0mmemoize\u001b[0m\u001b[0;34m(\u001b[0m\u001b[0mmaxsize\u001b[0m \u001b[0;34m=\u001b[0m \u001b[0;32mNone\u001b[0m\u001b[0;34m,\u001b[0m \u001b[0meviction_policy\u001b[0m \u001b[0;34m=\u001b[0m \u001b[0;34m'LRU'\u001b[0m\u001b[0;34m)\u001b[0m\u001b[0;34m:\u001b[0m\u001b[0;34m\u001b[0m\u001b[0;34m\u001b[0m\u001b[0m\n\u001b[1;32m      2\u001b[0m     \u001b[0;32massert\u001b[0m \u001b[0meviction_policy\u001b[0m \u001b[0;32min\u001b[0m \u001b[0;34m(\u001b[0m\u001b[0;34m'LRU'\u001b[0m\u001b[0;34m,\u001b[0m \u001b[0;34m'MRU'\u001b[0m\u001b[0;34m,\u001b[0m \u001b[0;34m'random'\u001b[0m\u001b[0;34m)\u001b[0m\u001b[0;34m,\u001b[0m\u001b[0;31m \u001b[0m\u001b[0;31m\\\u001b[0m\u001b[0;34m\u001b[0m\u001b[0;34m\u001b[0m\u001b[0m\n\u001b[0;32m----> 3\u001b[0;31m         \u001b[0;34m'i wrote this: eviction_policy argument invalid - must be LRU, MRU or random'\u001b[0m\u001b[0;34m\u001b[0m\u001b[0;34m\u001b[0m\u001b[0m\n\u001b[0m\u001b[1;32m      4\u001b[0m     \u001b[0mcache\u001b[0m \u001b[0;34m=\u001b[0m \u001b[0;34m{\u001b[0m\u001b[0;34m}\u001b[0m\u001b[0;34m\u001b[0m\u001b[0;34m\u001b[0m\u001b[0m\n\u001b[1;32m      5\u001b[0m     \u001b[0;32mdef\u001b[0m \u001b[0mfn_wrapper\u001b[0m\u001b[0;34m(\u001b[0m\u001b[0mfn\u001b[0m\u001b[0;34m)\u001b[0m\u001b[0;34m:\u001b[0m\u001b[0;34m\u001b[0m\u001b[0;34m\u001b[0m\u001b[0m\n",
      "\u001b[0;31mAssertionError\u001b[0m: i wrote this: eviction_policy argument invalid - must be LRU, MRU or random"
     ]
    }
   ],
   "source": [
    "@memoize(eviction_policy = 'hi')\n",
    "def blah(n):\n",
    "    print(n)\n",
    "\n",
    "blah(3)"
   ]
  },
  {
   "cell_type": "code",
   "execution_count": 17,
   "metadata": {},
   "outputs": [
    {
     "name": "stdout",
     "output_type": "stream",
     "text": [
      "Took 7.1431028842926025 seconds to run\n"
     ]
    },
    {
     "data": {
      "text/plain": [
       "39088169"
      ]
     },
     "execution_count": 17,
     "metadata": {},
     "output_type": "execute_result"
    }
   ],
   "source": [
    "# this one takes almost same time as no memoize decorator because \n",
    "# it's essentially not used with all of the fib_no_decorators calls\n",
    "@timeit\n",
    "@memoize()\n",
    "def fib(n):\n",
    "    return fib_no_decorators(n-1) + fib_no_decorators(n-2) if n > 2 else 1\n",
    "\n",
    "fib(38)"
   ]
  },
  {
   "cell_type": "code",
   "execution_count": 22,
   "metadata": {},
   "outputs": [
    {
     "name": "stdout",
     "output_type": "stream",
     "text": [
      "Took 3.6716461181640625e-05 seconds to run\n"
     ]
    },
    {
     "data": {
      "text/plain": [
       "39088169"
      ]
     },
     "execution_count": 22,
     "metadata": {},
     "output_type": "execute_result"
    }
   ],
   "source": [
    "# this one uses memoization throughout, but timeit cannot be a decorator\n",
    "\n",
    "@memoize()\n",
    "def fib(n):\n",
    "    return fib(n-1) + fib(n-2) if n > 2 else 1\n",
    "\n",
    "timeit(fib)(38)"
   ]
  },
  {
   "cell_type": "markdown",
   "metadata": {},
   "source": [
    "# Do the same with functools library\n",
    "But first, understand it\n",
    "\n",
    "Good resources:\n",
    "1. https://stackoverflow.com/questions/308999/what-does-functools-wraps-do\n",
    "2. https://lerner.co.il/2019/05/05/making-your-python-decorators-even-better-with-functool-wraps/\n",
    "3. https://docs.python.org/2/library/functools.html\n",
    "\n",
    "**Tl;dr: almost always use @wraps to manage decorators because it keeps context (e.g., function name, docstrings) of original function easily accessible.**"
   ]
  },
  {
   "cell_type": "code",
   "execution_count": 37,
   "metadata": {},
   "outputs": [
    {
     "name": "stdout",
     "output_type": "stream",
     "text": [
      "6!!!\n",
      "6!!!\n",
      "12!!!\n"
     ]
    }
   ],
   "source": [
    "def mydeco(func):\n",
    "    def wrapper(*args, **kwargs):\n",
    "        return('{}!!!'.format(func(*args, **kwargs)))\n",
    "    return wrapper\n",
    "\n",
    "@mydeco\n",
    "def add(a, b):\n",
    "    return a + b\n",
    "\n",
    "def add_no_deco(a, b):\n",
    "    return a + b\n",
    "\n",
    "@mydeco\n",
    "def mysum(*args):\n",
    "    total = 0\n",
    "    for n in args:\n",
    "        total += n\n",
    "    return total\n",
    "\n",
    "print(add(1, 5))\n",
    "print(mydeco(add_no_deco)(1, 5))\n",
    "\n",
    "print(mysum(1, 4, 2, 5))"
   ]
  },
  {
   "cell_type": "code",
   "execution_count": 38,
   "metadata": {},
   "outputs": [
    {
     "data": {
      "text/plain": [
       "('wrapper', 'add_no_deco')"
      ]
     },
     "execution_count": 38,
     "metadata": {},
     "output_type": "execute_result"
    }
   ],
   "source": [
    "add.__name__, add_no_deco.__name__"
   ]
  },
  {
   "cell_type": "code",
   "execution_count": 40,
   "metadata": {
    "scrolled": true
   },
   "outputs": [
    {
     "name": "stdout",
     "output_type": "stream",
     "text": [
      "6!!!\n",
      "add\n"
     ]
    }
   ],
   "source": [
    "def mydeco(func):\n",
    "    @wraps(func)\n",
    "    def wrapper(*args, **kwargs):\n",
    "        return('{}!!!'.format(func(*args, **kwargs)))\n",
    "    return wrapper\n",
    "\n",
    "@mydeco\n",
    "def add(a, b):\n",
    "    return a + b\n",
    "\n",
    "print(add(1, 5))\n",
    "print(add.__name__)"
   ]
  },
  {
   "cell_type": "code",
   "execution_count": 49,
   "metadata": {},
   "outputs": [
    {
     "name": "stdout",
     "output_type": "stream",
     "text": [
      "5702887\n",
      "fib hi\n"
     ]
    }
   ],
   "source": [
    "# alright, give it a shot\n",
    "def memoize(fn):\n",
    "    cache = {}\n",
    "    @wraps(fn)\n",
    "    def wrapper(*args):\n",
    "        for arg in args:\n",
    "            if arg in cache:\n",
    "                return cache[arg]\n",
    "            cache[arg] = fn(arg)\n",
    "            return cache[arg]\n",
    "    return wrapper\n",
    "\n",
    "@memoize\n",
    "def fib(n):\n",
    "    '''hi'''\n",
    "    if n == 1:\n",
    "        return 0\n",
    "    elif n == 2:\n",
    "        return 1\n",
    "    return fib(n - 1) + fib(n - 2)\n",
    "\n",
    "print(fib(35))\n",
    "print(fib.__name__, fib.__doc__)"
   ]
  },
  {
   "cell_type": "markdown",
   "metadata": {},
   "source": [
    "# Final memoize\n",
    "Notes to self:\n",
    "- Append `_` to variable names (like `_cache`) to denote they shouldn't be accessed outside of the function\n",
    "- Not surprising, but each instance of `fib()` being called references a new `memoize()` too, so `_cache` is self-contained\n",
    "- [Good resource](https://en.wikipedia.org/wiki/Cache_replacement_policies) on different types of cache replacement policies (e.g., LRU, MRU)\n",
    "- [Doc strings](https://docs.python.org/3/library/functools.html#functools.lru_cache) for `functools.lru_cache`, and [source code](https://github.com/python/cpython/blob/master/Lib/functools.py), which is how I found out how to modify the wrapper to give the original function different function attributes"
   ]
  },
  {
   "cell_type": "code",
   "execution_count": 111,
   "metadata": {
    "scrolled": true
   },
   "outputs": [
    {
     "name": "stdout",
     "output_type": "stream",
     "text": [
      "Args: (36,), Cache len: 0\n",
      "Args: (35,), Cache len: 0\n",
      "Args: (34,), Cache len: 0\n",
      "Args: (33,), Cache len: 0\n",
      "Args: (32,), Cache len: 0\n",
      "Args: (31,), Cache len: 0\n",
      "Args: (30,), Cache len: 0\n",
      "Args: (29,), Cache len: 0\n",
      "Args: (28,), Cache len: 0\n",
      "Args: (27,), Cache len: 0\n",
      "Args: (26,), Cache len: 0\n",
      "Args: (25,), Cache len: 0\n",
      "Args: (24,), Cache len: 0\n",
      "Args: (23,), Cache len: 0\n",
      "Args: (22,), Cache len: 0\n",
      "Args: (21,), Cache len: 0\n",
      "Args: (20,), Cache len: 0\n",
      "Args: (19,), Cache len: 0\n",
      "Args: (18,), Cache len: 0\n",
      "Args: (17,), Cache len: 0\n",
      "Args: (16,), Cache len: 0\n",
      "Args: (15,), Cache len: 0\n",
      "Args: (14,), Cache len: 0\n",
      "Args: (13,), Cache len: 0\n",
      "Args: (12,), Cache len: 0\n",
      "Args: (11,), Cache len: 0\n",
      "Args: (10,), Cache len: 0\n",
      "Args: (9,), Cache len: 0\n",
      "Args: (8,), Cache len: 0\n",
      "Args: (7,), Cache len: 0\n",
      "Args: (6,), Cache len: 0\n",
      "Args: (5,), Cache len: 0\n",
      "Args: (4,), Cache len: 0\n",
      "Args: (3,), Cache len: 0\n",
      "Args: (2,), Cache len: 0\n",
      "Args: (1,), Cache len: 1\n",
      "Args: (2,), Cache len: 3\n",
      "Args: (3,), Cache len: 4\n",
      "Args: (4,), Cache len: 5\n",
      "Args: (5,), Cache len: 6\n",
      "Args: (6,), Cache len: 7\n",
      "Args: (7,), Cache len: 8\n",
      "Args: (8,), Cache len: 9\n",
      "Args: (9,), Cache len: 10\n",
      "Trigger LRU!\n",
      "Args: (10,), Cache len: 10\n",
      "Trigger LRU!\n",
      "Args: (11,), Cache len: 10\n",
      "Trigger LRU!\n",
      "Args: (12,), Cache len: 10\n",
      "Trigger LRU!\n",
      "Args: (13,), Cache len: 10\n",
      "Trigger LRU!\n",
      "Args: (14,), Cache len: 10\n",
      "Trigger LRU!\n",
      "Args: (15,), Cache len: 10\n",
      "Trigger LRU!\n",
      "Args: (16,), Cache len: 10\n",
      "Trigger LRU!\n",
      "Args: (17,), Cache len: 10\n",
      "Trigger LRU!\n",
      "Args: (18,), Cache len: 10\n",
      "Trigger LRU!\n",
      "Args: (19,), Cache len: 10\n",
      "Trigger LRU!\n",
      "Args: (20,), Cache len: 10\n",
      "Trigger LRU!\n",
      "Args: (21,), Cache len: 10\n",
      "Trigger LRU!\n",
      "Args: (22,), Cache len: 10\n",
      "Trigger LRU!\n",
      "Args: (23,), Cache len: 10\n",
      "Trigger LRU!\n",
      "Args: (24,), Cache len: 10\n",
      "Trigger LRU!\n",
      "Args: (25,), Cache len: 10\n",
      "Trigger LRU!\n",
      "Args: (26,), Cache len: 10\n",
      "Trigger LRU!\n",
      "Args: (27,), Cache len: 10\n",
      "Trigger LRU!\n",
      "Args: (28,), Cache len: 10\n",
      "Trigger LRU!\n",
      "Args: (29,), Cache len: 10\n",
      "Trigger LRU!\n",
      "Args: (30,), Cache len: 10\n",
      "Trigger LRU!\n",
      "Args: (31,), Cache len: 10\n",
      "Trigger LRU!\n",
      "Args: (32,), Cache len: 10\n",
      "Trigger LRU!\n",
      "Args: (33,), Cache len: 10\n",
      "Trigger LRU!\n",
      "Args: (34,), Cache len: 10\n",
      "Trigger LRU!\n",
      "9227465\n",
      "fib hi\n"
     ]
    }
   ],
   "source": [
    "def memoize(maxsize = None, eviction_policy = 'LRU'):\n",
    "    assert eviction_policy in ('LRU', 'MRU', 'random'), \\\n",
    "        'i wrote this: eviction_policy argument invalid - must be LRU, MRU or random'\n",
    "\n",
    "    def wrapper_wrapper(fn):\n",
    "        \n",
    "        def cache_info():\n",
    "            return len(fn._cache)\n",
    "        \n",
    "        def cache_clear():\n",
    "            fn._cache.clear()\n",
    "        \n",
    "        fn.cache_info = cache_info\n",
    "        fn.cache_clear = cache_clear\n",
    "        fn._cache = OrderedDict() # i don't HAVE to move this into wrapper_wrapper in case other functions that use @memoize decorator can also access this instance\n",
    "        \n",
    "        @wraps(fn)\n",
    "        def wrapper(*args):\n",
    "            print('Args: {}, Cache len: {}'.format(args, len(fn._cache)))\n",
    "            if args in fn._cache:\n",
    "                fn._cache.move_to_end(args)\n",
    "                return fn._cache[args]\n",
    "            v = fn(*args)\n",
    "            # if at maxsize, remove a k-v pair first\n",
    "            if maxsize and len(fn._cache) >= maxsize:\n",
    "                if eviction_policy == 'LRU':\n",
    "                    print('Trigger LRU!')\n",
    "                    fn._cache.popitem(last = False)\n",
    "                elif eviction_policy == 'MRU':\n",
    "                    print('Trigger MRU!')\n",
    "                    fn._cache.popitem(last = True)\n",
    "                else:\n",
    "                    print('Trigger Random!')\n",
    "                    fn._cache.popitem(random.choice(list(fn._cache.keys())))\n",
    "            fn._cache[args] = v\n",
    "            return fn._cache[args]\n",
    "        return wrapper\n",
    "    return wrapper_wrapper\n",
    "    \n",
    "# Also, add function attributes called .cache_info and .cache_clear which can be called to get aggregate statistics about the cache and clear the cache, respectively.    \n",
    "\n",
    "@memoize(maxsize = 10)\n",
    "def fib(n):\n",
    "    '''hi'''\n",
    "    if n == 1:\n",
    "        return 0\n",
    "    elif n == 2:\n",
    "        return 1\n",
    "    return fib(n - 1) + fib(n - 2)\n",
    "\n",
    "\n",
    "f = fib\n",
    "print(f(36))\n",
    "print(f.__name__, f.__doc__)"
   ]
  },
  {
   "cell_type": "code",
   "execution_count": 112,
   "metadata": {},
   "outputs": [
    {
     "name": "stdout",
     "output_type": "stream",
     "text": [
      "10\n",
      "OrderedDict([((27,), 121393), ((28,), 196418), ((29,), 317811), ((30,), 514229), ((31,), 832040), ((32,), 1346269), ((33,), 2178309), ((35,), 5702887), ((34,), 3524578), ((36,), 9227465)])\n",
      "clearing..\n",
      "0\n",
      "OrderedDict()\n"
     ]
    }
   ],
   "source": [
    "print(f.cache_info())\n",
    "print(f._cache)\n",
    "\n",
    "print('clearing..')\n",
    "f.cache_clear()\n",
    "print(f.cache_info())\n",
    "print(f._cache)"
   ]
  },
  {
   "cell_type": "code",
   "execution_count": 113,
   "metadata": {
    "scrolled": true
   },
   "outputs": [
    {
     "name": "stdout",
     "output_type": "stream",
     "text": [
      "Args: (36,), Cache len: 0\n",
      "Args: (35,), Cache len: 0\n",
      "Args: (34,), Cache len: 0\n",
      "Args: (33,), Cache len: 0\n",
      "Args: (32,), Cache len: 0\n",
      "Args: (31,), Cache len: 0\n",
      "Args: (30,), Cache len: 0\n",
      "Args: (29,), Cache len: 0\n",
      "Args: (28,), Cache len: 0\n",
      "Args: (27,), Cache len: 0\n",
      "Args: (26,), Cache len: 0\n",
      "Args: (25,), Cache len: 0\n",
      "Args: (24,), Cache len: 0\n",
      "Args: (23,), Cache len: 0\n",
      "Args: (22,), Cache len: 0\n",
      "Args: (21,), Cache len: 0\n",
      "Args: (20,), Cache len: 0\n",
      "Args: (19,), Cache len: 0\n",
      "Args: (18,), Cache len: 0\n",
      "Args: (17,), Cache len: 0\n",
      "Args: (16,), Cache len: 0\n",
      "Args: (15,), Cache len: 0\n",
      "Args: (14,), Cache len: 0\n",
      "Args: (13,), Cache len: 0\n",
      "Args: (12,), Cache len: 0\n",
      "Args: (11,), Cache len: 0\n",
      "Args: (10,), Cache len: 0\n",
      "Args: (9,), Cache len: 0\n",
      "Args: (8,), Cache len: 0\n",
      "Args: (7,), Cache len: 0\n",
      "Args: (6,), Cache len: 0\n",
      "Args: (5,), Cache len: 0\n",
      "Args: (4,), Cache len: 0\n",
      "Args: (3,), Cache len: 0\n",
      "Args: (2,), Cache len: 0\n",
      "Args: (1,), Cache len: 1\n",
      "Args: (2,), Cache len: 3\n",
      "Args: (3,), Cache len: 4\n",
      "Args: (4,), Cache len: 5\n",
      "Args: (5,), Cache len: 6\n",
      "Args: (6,), Cache len: 7\n",
      "Args: (7,), Cache len: 8\n",
      "Args: (8,), Cache len: 9\n",
      "Args: (9,), Cache len: 10\n",
      "Trigger LRU!\n",
      "Args: (10,), Cache len: 10\n",
      "Trigger LRU!\n",
      "Args: (11,), Cache len: 10\n",
      "Trigger LRU!\n",
      "Args: (12,), Cache len: 10\n",
      "Trigger LRU!\n",
      "Args: (13,), Cache len: 10\n",
      "Trigger LRU!\n",
      "Args: (14,), Cache len: 10\n",
      "Trigger LRU!\n",
      "Args: (15,), Cache len: 10\n",
      "Trigger LRU!\n",
      "Args: (16,), Cache len: 10\n",
      "Trigger LRU!\n",
      "Args: (17,), Cache len: 10\n",
      "Trigger LRU!\n",
      "Args: (18,), Cache len: 10\n",
      "Trigger LRU!\n",
      "Args: (19,), Cache len: 10\n",
      "Trigger LRU!\n",
      "Args: (20,), Cache len: 10\n",
      "Trigger LRU!\n",
      "Args: (21,), Cache len: 10\n",
      "Trigger LRU!\n",
      "Args: (22,), Cache len: 10\n",
      "Trigger LRU!\n",
      "Args: (23,), Cache len: 10\n",
      "Trigger LRU!\n",
      "Args: (24,), Cache len: 10\n",
      "Trigger LRU!\n",
      "Args: (25,), Cache len: 10\n",
      "Trigger LRU!\n",
      "Args: (26,), Cache len: 10\n",
      "Trigger LRU!\n",
      "Args: (27,), Cache len: 10\n",
      "Trigger LRU!\n",
      "Args: (28,), Cache len: 10\n",
      "Trigger LRU!\n",
      "Args: (29,), Cache len: 10\n",
      "Trigger LRU!\n",
      "Args: (30,), Cache len: 10\n",
      "Trigger LRU!\n",
      "Args: (31,), Cache len: 10\n",
      "Trigger LRU!\n",
      "Args: (32,), Cache len: 10\n",
      "Trigger LRU!\n",
      "Args: (33,), Cache len: 10\n",
      "Trigger LRU!\n",
      "Args: (34,), Cache len: 10\n",
      "Trigger LRU!\n",
      "9227465\n",
      "fib2 hi\n"
     ]
    }
   ],
   "source": [
    "@memoize(maxsize = 10)\n",
    "def fib2(n):\n",
    "    '''hi'''\n",
    "    if n == 1:\n",
    "        return 0\n",
    "    elif n == 2:\n",
    "        return 1\n",
    "    return fib2(n - 1) + fib2(n - 2)\n",
    "\n",
    "\n",
    "f2 = fib2\n",
    "print(f2(36))\n",
    "print(f2.__name__, f2.__doc__)"
   ]
  },
  {
   "cell_type": "markdown",
   "metadata": {},
   "source": [
    "### Better Debugging Decorator\n",
    "The `debug` decorator we wrote in class isn't very good. It doesn't tell us which function is being called, and it just dumps a tuple of positional arguments and a dictionary of keyword arguments - it doesn't even know what the names of the positional arguments are! If the default arguments aren't overridden, it won't show us their value either.\n",
    "\n",
    "Use function attributes to improve our `debug` decorator into a `print_args` decorator that is \"as good as you can make it.\"\n",
    "\n",
    "```Python\n",
    "def print_args(function):\n",
    "    def wrapper(*args, **kwargs):\n",
    "        # (1) You could do something here\n",
    "        retval = function(*args, **kwargs)\n",
    "        # (2) You could also do something here\n",
    "        return retval\n",
    "    return wrapper\n",
    "```\n",
    "\n",
    "*Hint: Consider using the attributes `fn.__name__` and `fn.__code__`. You'll have to investigate these attributes, but I will say that the `fn.__code__` code object contains a number of useful attributes - for instance, `fn.__code__.co_varnames`. Check it out! More information on function attributes is available in the latter half of Lab 3.*\n",
    "\n",
    "#### Note\n",
    "There are a lot of subtleties to this function, since functions can be called in a number of different ways. How does your `print_args` handle keyword arguments or even keyword-only arguments? Variadic positional arguments? Variadic keyword arguments? For more customization, look at `fn.__defaults__`, `fn.__kwdefaults__`, as well as other attributes of `fn.__code__`."
   ]
  },
  {
   "cell_type": "code",
   "execution_count": 143,
   "metadata": {
    "scrolled": true
   },
   "outputs": [
    {
     "name": "stdout",
     "output_type": "stream",
     "text": [
      "PRINTING ALL FUNCTION METADATA..\n",
      "Function name: is_prime\n",
      "Positional arguments: {'n': 198239813}\n",
      "Keyword arguments: {}\n",
      "------------------------------\n",
      "False\n",
      "PRINTING ALL FUNCTION METADATA..\n",
      "Function name: is_prime\n",
      "Positional arguments: {'n': 4028769383}\n",
      "Keyword arguments: {}\n",
      "------------------------------\n",
      "False\n",
      "PRINTING ALL FUNCTION METADATA..\n",
      "Function name: stylize_quote\n",
      "Positional arguments: {'quote': 'Doth mother know you weareth her drapes?'}\n",
      "Keyword arguments: {'speaker': 'Iron Man', 'year': '2012', 'movie': 'The Avengers'}\n",
      "------------------------------\n",
      "> Doth mother know you weareth her drapes?\n",
      "------------------------------------------\n",
      "speaker: Iron Man\n",
      "year: 2012\n",
      "movie: The Avengers\n",
      "PRINTING ALL FUNCTION METADATA..\n",
      "Function name: draw_table\n",
      "Positional arguments: {'num_rows': 10, 'num_cols': 10}\n",
      "Keyword arguments: {}\n",
      "------------------------------\n",
      "+-+-+-+-+-+-+-+-+-+-+\n",
      "| | | | | | | | | | |\n",
      "+-+-+-+-+-+-+-+-+-+-+\n",
      "| | | | | | | | | | |\n",
      "+-+-+-+-+-+-+-+-+-+-+\n",
      "| | | | | | | | | | |\n",
      "+-+-+-+-+-+-+-+-+-+-+\n",
      "| | | | | | | | | | |\n",
      "+-+-+-+-+-+-+-+-+-+-+\n",
      "| | | | | | | | | | |\n",
      "+-+-+-+-+-+-+-+-+-+-+\n",
      "| | | | | | | | | | |\n",
      "+-+-+-+-+-+-+-+-+-+-+\n",
      "| | | | | | | | | | |\n",
      "+-+-+-+-+-+-+-+-+-+-+\n",
      "| | | | | | | | | | |\n",
      "+-+-+-+-+-+-+-+-+-+-+\n",
      "| | | | | | | | | | |\n",
      "+-+-+-+-+-+-+-+-+-+-+\n",
      "| | | | | | | | | | |\n",
      "+-+-+-+-+-+-+-+-+-+-+\n",
      "PRINTING ALL FUNCTION METADATA..\n",
      "Function name: draw_table\n",
      "Positional arguments: {'num_rows': 3, 'num_cols': 8}\n",
      "Keyword arguments: {}\n",
      "------------------------------\n",
      "+-+-+-+-+-+-+-+-+\n",
      "| | | | | | | | |\n",
      "+-+-+-+-+-+-+-+-+\n",
      "| | | | | | | | |\n",
      "+-+-+-+-+-+-+-+-+\n",
      "| | | | | | | | |\n",
      "+-+-+-+-+-+-+-+-+\n"
     ]
    }
   ],
   "source": [
    "# key functionalities:\n",
    "# 1. Print function being called\n",
    "# 2. Print names of positional arguments and their values, including default arguments\n",
    "# 3. Print names of keyword arguments and their values, including default arguments\n",
    "\n",
    "def print_args():\n",
    "    def fn_wrapper(fn):\n",
    "        @wraps(fn)\n",
    "        def wrapper(*args, **kwargs):\n",
    "            print('PRINTING ALL FUNCTION METADATA..')\n",
    "            print('Function name: {}'.format(fn.__name__))\n",
    "            print('Positional arguments: {}'.format(dict(zip(inspect.signature(fn).parameters.keys(), args))))\n",
    "            print('Keyword arguments: {}'.format(kwargs))\n",
    "            print('-'*30)\n",
    "            return_val = fn(*args, **kwargs)\n",
    "            return return_val\n",
    "        return wrapper\n",
    "    return fn_wrapper\n",
    "\n",
    "@print_args()\n",
    "def is_prime(n):\n",
    "    for i in range(2, n):\n",
    "        if n % i == 0:\n",
    "            return False\n",
    "    return True\n",
    "\n",
    "print(is_prime(198239813))\n",
    "print(is_prime(4028769383))\n",
    "\n",
    "@print_args()\n",
    "def stylize_quote(quote, **kwargs):\n",
    "    print('> {}'.format(quote))\n",
    "    print('-'*(len(quote) + 2))\n",
    "    \n",
    "    for k, v in kwargs.items():\n",
    "        print('{k}: {v}'.format(k=k, v=v))\n",
    "\n",
    "stylize_quote('Doth mother know you weareth her drapes?', speaker='Iron Man', year='2012', movie='The Avengers')\n",
    "\n",
    "@print_args()\n",
    "def draw_table(num_rows, num_cols):\n",
    "    sep = '+' + '+'.join(['-'] * num_cols) + '+'\n",
    "    line = '|' + '|'.join([' '] * num_cols) + '|'\n",
    "    \n",
    "    for _ in range(num_rows):\n",
    "        print(sep)\n",
    "        print(line)\n",
    "    print(sep)\n",
    "    \n",
    "draw_table(10, 10)\n",
    "draw_table(3, 8)"
   ]
  },
  {
   "cell_type": "code",
   "execution_count": 145,
   "metadata": {
    "scrolled": true
   },
   "outputs": [
    {
     "name": "stdout",
     "output_type": "stream",
     "text": [
      "PRINTING ALL FUNCTION METADATA..\n",
      "Function name: is_prime\n",
      "Positional arguments: {'n': 198239813}\n",
      "Keyword arguments: {}\n",
      "------------------------------\n",
      "False\n",
      "PRINTING ALL FUNCTION METADATA..\n",
      "Function name: is_prime\n",
      "Positional arguments: {'n': 4028769383}\n",
      "Keyword arguments: {}\n",
      "------------------------------\n",
      "False\n",
      "PRINTING ALL FUNCTION METADATA..\n",
      "Function name: stylize_quote\n",
      "Positional arguments: {'quote': 'Doth mother know you weareth her drapes?'}\n",
      "Keyword arguments: {'speaker': 'Iron Man', 'year': '2012', 'movie': 'The Avengers'}\n",
      "------------------------------\n",
      "> Doth mother know you weareth her drapes?\n",
      "------------------------------------------\n",
      "speaker: Iron Man\n",
      "year: 2012\n",
      "movie: The Avengers\n",
      "PRINTING ALL FUNCTION METADATA..\n",
      "Function name: draw_table\n",
      "Positional arguments: {'num_rows': 10, 'num_cols': 10}\n",
      "Keyword arguments: {}\n",
      "------------------------------\n",
      "+-+-+-+-+-+-+-+-+-+-+\n",
      "| | | | | | | | | | |\n",
      "+-+-+-+-+-+-+-+-+-+-+\n",
      "| | | | | | | | | | |\n",
      "+-+-+-+-+-+-+-+-+-+-+\n",
      "| | | | | | | | | | |\n",
      "+-+-+-+-+-+-+-+-+-+-+\n",
      "| | | | | | | | | | |\n",
      "+-+-+-+-+-+-+-+-+-+-+\n",
      "| | | | | | | | | | |\n",
      "+-+-+-+-+-+-+-+-+-+-+\n",
      "| | | | | | | | | | |\n",
      "+-+-+-+-+-+-+-+-+-+-+\n",
      "| | | | | | | | | | |\n",
      "+-+-+-+-+-+-+-+-+-+-+\n",
      "| | | | | | | | | | |\n",
      "+-+-+-+-+-+-+-+-+-+-+\n",
      "| | | | | | | | | | |\n",
      "+-+-+-+-+-+-+-+-+-+-+\n",
      "| | | | | | | | | | |\n",
      "+-+-+-+-+-+-+-+-+-+-+\n",
      "PRINTING ALL FUNCTION METADATA..\n",
      "Function name: draw_table\n",
      "Positional arguments: {'num_rows': 3, 'num_cols': 8}\n",
      "Keyword arguments: {}\n",
      "------------------------------\n",
      "+-+-+-+-+-+-+-+-+\n",
      "| | | | | | | | |\n",
      "+-+-+-+-+-+-+-+-+\n",
      "| | | | | | | | |\n",
      "+-+-+-+-+-+-+-+-+\n",
      "| | | | | | | | |\n",
      "+-+-+-+-+-+-+-+-+\n"
     ]
    }
   ],
   "source": [
    "# try again, but more similar to solutions' style\n",
    "\n",
    "def print_args(fn):\n",
    "    @wraps(fn)\n",
    "    def wrapper(*args, **kwargs):\n",
    "        print('PRINTING ALL FUNCTION METADATA..')\n",
    "        print('Function name: {}'.format(fn.__name__))\n",
    "        print('Positional arguments: {}'.format(dict(zip(inspect.signature(fn).parameters.keys(), args))))\n",
    "        print('Keyword arguments: {}'.format(kwargs))\n",
    "        print('-'*30)\n",
    "        return_val = fn(*args, **kwargs)\n",
    "        return return_val\n",
    "    return wrapper\n",
    "\n",
    "@print_args\n",
    "def is_prime(n):\n",
    "    for i in range(2, n):\n",
    "        if n % i == 0:\n",
    "            return False\n",
    "    return True\n",
    "\n",
    "print(is_prime(198239813))\n",
    "print(is_prime(4028769383))\n",
    "\n",
    "@print_args\n",
    "def stylize_quote(quote, **kwargs):\n",
    "    print('> {}'.format(quote))\n",
    "    print('-'*(len(quote) + 2))\n",
    "    \n",
    "    for k, v in kwargs.items():\n",
    "        print('{k}: {v}'.format(k=k, v=v))\n",
    "\n",
    "stylize_quote('Doth mother know you weareth her drapes?', speaker='Iron Man', year='2012', movie='The Avengers')\n",
    "\n",
    "@print_args\n",
    "def draw_table(num_rows, num_cols):\n",
    "    sep = '+' + '+'.join(['-'] * num_cols) + '+'\n",
    "    line = '|' + '|'.join([' '] * num_cols) + '|'\n",
    "    \n",
    "    for _ in range(num_rows):\n",
    "        print(sep)\n",
    "        print(line)\n",
    "    print(sep)\n",
    "    \n",
    "draw_table(10, 10)\n",
    "draw_table(3, 8)"
   ]
  },
  {
   "cell_type": "markdown",
   "metadata": {},
   "source": [
    "### Dynamic Type Checker (challenge)\n",
    "\n",
    "Functions in Python can be optionally annotated by semantically-useless but structurally-valuable type annotations. For example:\n",
    "\n",
    "```Python\n",
    "def foo(a: int, b: str) -> bool:\n",
    "    return b[a] == 'X'\n",
    "\n",
    "foo.__annotations__  # => {'a': int, 'b': str, 'return': bool}\n",
    "```\n",
    "\n",
    "Write a runtime type checker, implemented as a decorator, that enforces that the types of arguments and the return value are valid.\n",
    "\n",
    "```Python\n",
    "def enforce_types(function):\n",
    "    pass  # Your implementation here\n",
    "```\n",
    "\n",
    "For example:\n",
    "\n",
    "```Python\n",
    "@enforce_types\n",
    "def foo(a: int, b: str) -> bool:\n",
    "    if a == -1:\n",
    "        return 'Gotcha!'\n",
    "    return b[a] == 'X'\n",
    "\n",
    "foo(3, 'abcXde')  # => True\n",
    "foo(2, 'python')  # => False\n",
    "foo(1, 4)  # prints \"Invalid argument type for b: expected str, received int\n",
    "foo(-1, '')  # prints \"Invalid return type: expected bool, received str\n",
    "```\n",
    "\n",
    "There are lots of nuances to this function. What happens if some annotations are missing? How are keyword arguments and variadic arguments handled? What happens if the expected type of a parameter is not a primitive type? Can you annotate a function to describe that a parameter should be a list of strings? A tuple of (str, bool) pairs? A dictionary mapping strings to lists of integers? Read more about [advanced type hints](https://docs.python.org/3/library/typing.html) from the documentation.\n",
    "\n",
    "As you make progress, show your decorator to a member of the course staff. "
   ]
  },
  {
   "cell_type": "code",
   "execution_count": null,
   "metadata": {},
   "outputs": [],
   "source": [
    "def enforce_types(function):\n",
    "    pass # Your implementation here\n",
    "\n",
    "@enforce_types\n",
    "def foo(a: int, b: str) -> bool:\n",
    "    if a == -1:\n",
    "        return 'Gotcha!'\n",
    "    return b[a] == 'X'\n",
    "\n",
    "foo(3, 'abcXde')  # => True\n",
    "foo(2, 'python')  # => False\n",
    "foo(1, 4)  # prints \"Invalid argument type for b: expected str, received int\n",
    "foo(-1, '')  # prints \"Invalid return type: expected bool, received str"
   ]
  },
  {
   "cell_type": "markdown",
   "metadata": {},
   "source": [
    "## Nested Functions and Closures\n",
    "\n",
    "In class, we saw that a function can be defined within the scope of another function. Recall from Week 3 that functions introduce new scopes via a new local symbol table. An inner function is only in scope inside of the outer function, so this type of function definition is usually only used when the inner function is being returned to the outside world.\n",
    "\n",
    "```Python\n",
    "def outer():\n",
    "    def inner(a):\n",
    "        return a\n",
    "    return inner\n",
    "\n",
    "f = outer()\n",
    "print(f)  # <function outer.<locals>.inner at 0x1044b61e0>\n",
    "print(f(10))  # => 10\n",
    "\n",
    "f2 = outer()\n",
    "print(f2)  # <function outer.<locals>.inner at 0x1044b6268> (Different from above!)\n",
    "print(f2(11))  # => 11\n",
    "```\n",
    "\n",
    "Why are the memory addresses different for `f` and `f2`? Discuss with a partner."
   ]
  },
  {
   "cell_type": "code",
   "execution_count": null,
   "metadata": {},
   "outputs": [],
   "source": [
    "def outer():\n",
    "    def inner(a):\n",
    "        return a\n",
    "    return inner\n",
    "\n",
    "f = outer()\n",
    "print(f)  # <function outer.<locals>.inner at 0x1044b61e0>\n",
    "print(f(10))  # => 10\n",
    "\n",
    "f2 = outer()\n",
    "print(f2)  # <function outer.<locals>.inner at 0x1044b6268> (Different from above!)\n",
    "print(f2(11))  # => 11"
   ]
  },
  {
   "cell_type": "markdown",
   "metadata": {},
   "source": [
    "### Closure\n",
    "As we saw above, the definition of the inner function occurs during the execution of the outer function. This implies that a nested function has access to the environment in which it was defined. Therefore, it is possible to return an inner function that remembers contents of the outer function, even after the outer function has completed execution. This model is referred to as a closure.\n",
    "\n",
    "```Python\n",
    "def make_adder(n):\n",
    "    def add_n(m):  # Captures the outer variable `n` in a closure\n",
    "        return m + n\n",
    "    return add_n\n",
    "\n",
    "add1 = make_adder(1)\n",
    "print(add1)  # <function make_adder.<locals>.add_n at 0x103edf8c8>\n",
    "add1(4)  # => 5\n",
    "add1(5)  # => 6\n",
    "\n",
    "add2 = make_adder(2)\n",
    "print(add2)  # <function make_adder.<locals>.add_n at 0x103ecbf28>\n",
    "add2(4)  # => 6\n",
    "add2(5)  # => 7\n",
    "```\n",
    "\n",
    "The information in a closure is available in the function's `__closure__` attribute. For example:\n",
    "\n",
    "```Python\n",
    "closure = add1.__closure__\n",
    "cell0 = closure[0]\n",
    "cell0.cell_contents  # => 1 (this is the n = 1 passed into make_adder)\n",
    "``` \n",
    "\n",
    "As another example, consider the function:\n",
    "\n",
    "```Python\n",
    "def foo(a, b, c=-1, *d, e=-2, f=-3, **g):\n",
    "    def wraps():\n",
    "        print(a, c, e, g)\n",
    "    return wraps\n",
    "``` \n",
    "\n",
    "The `print` call induces a closure of `wraps` over `a`, `c`, `e`, `g` from the enclosing scope of `foo`. Or, you can imagine that wraps \"knows\" that it will need `a`, `c`, `e`, and `g` from the enclosing scope, so at the time `wraps` is defined, Python takes a \"screenshot\" of these variables from the enclosing scope and stores references to the underlying objects in the `__closure__` attribute of the `wraps` function.\n",
    "\n",
    "```Python\n",
    "w = foo(1, 2, 3, 4, 5, e=6, f=7, y=2, z=3)\n",
    "list(map(lambda cell: cell.cell_contents, w.__closure__))\n",
    "# => [1, 3, 6, {'y': 2, 'z': 3}]\n",
    "```\n",
    "\n",
    "What happens in the following situation? Why?\n",
    "```Python\n",
    "def outer(l):\n",
    "    def inner(n):\n",
    "        return l * n\n",
    "    return inner\n",
    "    \n",
    "l = [1, 2, 3]\n",
    "f = outer(l)\n",
    "print(f(3))  # => ??\n",
    "\n",
    "l.append(4)\n",
    "print(f(3))  # => ??\n",
    "```"
   ]
  },
  {
   "cell_type": "code",
   "execution_count": null,
   "metadata": {},
   "outputs": [],
   "source": [
    "def outer(l):\n",
    "    def inner(n):\n",
    "        return l * n\n",
    "    return inner\n",
    "    \n",
    "l = [1, 2, 3]\n",
    "f = outer(l)\n",
    "print(f(3))  # => ??\n",
    "\n",
    "l.append(4)\n",
    "print(f(3))  # => ??"
   ]
  },
  {
   "cell_type": "markdown",
   "metadata": {},
   "source": [
    "## Functions\n",
    "Alright, back to functions! This stuff is really fun too! Let's start with an optional problem that puts together all of the things we've learned about functions so far.\n",
    "\n",
    "### *Optional: Putting it all together*\n",
    "*If you feel confident that you understand how function calling works, you can skip this section. We suggest that you work through it if you'd like more practice, but the final decision is up to you.*\n",
    "\n",
    "Often, however, we don't just see keyword arguments of variadic parameter lists in isolated situations. The following function definition, which incorporates positional parameters, keyword parameters, variadic positional parameters, keyword-only default parameters and variadic keyword parameters, is valid Python code. \n",
    "\n",
    "```Python\n",
    "def all_together(x, y, z=1, *nums, indent=True, spaces=4, **options):\n",
    "    print(\"x:\", x)\n",
    "    print(\"y:\", y)\n",
    "    print(\"z:\", z)\n",
    "    print(\"nums:\", nums)\n",
    "    print(\"indent:\", indent)\n",
    "    print(\"spaces:\", spaces)\n",
    "    print(\"options:\", options)\n",
    "```\n",
    "\n",
    "For each of the following function calls, predict whether the call is valid or not. If it is valid, what will the output be? If it is invalid, what is the cause of the error?\n",
    "\n",
    "```Python\n",
    "all_together(2)\n",
    "all_together(2, 5, 7, 8, indent=False)\n",
    "all_together(2, 5, 7, 6, indent=None)\n",
    "all_together()\n",
    "all_together(indent=True, 3, 4, 5)\n",
    "all_together(**{'indent': False}, scope='maximum')\n",
    "all_together(dict(x=0, y=1), *range(10))\n",
    "all_together(**dict(x=0, y=1), *range(10))\n",
    "all_together(*range(10), **dict(x=0, y=1))\n",
    "all_together([1, 2], {3:4})\n",
    "all_together(8, 9, 10, *[2, 4, 6], x=7, spaces=0, **{'a':5, 'b':'x'})\n",
    "all_together(8, 9, 10, *[2, 4, 6], spaces=0, **{'a':[4,5], 'b':'x'})\n",
    "all_together(8, 9, *[2, 4, 6], *dict(z=1), spaces=0, **{'a':[4,5], 'b':'x'})\n",
    "```"
   ]
  },
  {
   "cell_type": "code",
   "execution_count": null,
   "metadata": {},
   "outputs": [],
   "source": [
    "# Before running me, predict which of these calls will be invalid and which will be valid!\n",
    "# For valid calls, what is the output?\n",
    "# For invalid calls, why is it invalid?\n",
    "def all_together(x, y, z=1, *nums, indent=True, spaces=4, **options):\n",
    "    print(\"x:\", x)\n",
    "    print(\"y:\", y)\n",
    "    print(\"z:\", z)\n",
    "    print(\"nums:\", nums)\n",
    "    print(\"indent:\", indent)\n",
    "    print(\"spaces:\", spaces)\n",
    "    print(\"options:\", options)\n",
    "    \n",
    "# Uncomment the ones you want to run!\n",
    "# all_together(2)\n",
    "# all_together(2, 5, 7, 8, indent=False)\n",
    "# all_together(2, 5, 7, 6, indent=None)\n",
    "# all_together()\n",
    "# all_together(indent=True, 3, 4, 5)\n",
    "# all_together(**{'indent': False}, scope='maximum')\n",
    "# all_together(dict(x=0, y=1), *range(10))\n",
    "# all_together(**dict(x=0, y=1), *range(10))\n",
    "# all_together(*range(10), **dict(x=0, y=1))\n",
    "# all_together([1, 2], {3:4})\n",
    "# all_together(8, 9, 10, *[2, 4, 6], x=7, spaces=0, **{'a':5, 'b':'x'})\n",
    "# all_together(8, 9, 10, *[2, 4, 6], spaces=0, **{'a':[4,5], 'b':'x'})\n",
    "# all_together(8, 9, *[2, 4, 6], *dict(z=1), spaces=0, **{'a':[4,5], 'b':'x'})"
   ]
  },
  {
   "cell_type": "markdown",
   "metadata": {},
   "source": [
    "Write at least two more instances of function calls, not listed above, and predict their output. Are they valid or invalid? Check your hypothesis."
   ]
  },
  {
   "cell_type": "code",
   "execution_count": null,
   "metadata": {},
   "outputs": [],
   "source": [
    "# Write two more function calls.\n",
    "# all_together(...)\n",
    "# all_together(...)"
   ]
  },
  {
   "cell_type": "markdown",
   "metadata": {},
   "source": [
    "### Default Mutable Arguments - A Dangerous Game\n",
    "\n",
    "A function's default values are evaluated at the point of function definition in the defining scope. For example:"
   ]
  },
  {
   "cell_type": "code",
   "execution_count": null,
   "metadata": {},
   "outputs": [],
   "source": [
    "x = 5\n",
    "\n",
    "def square(num=x):\n",
    "    return num * num\n",
    "\n",
    "x = 6\n",
    "print(square())   # => 25, not 36\n",
    "print(square(x))  # => 36"
   ]
  },
  {
   "cell_type": "markdown",
   "metadata": {},
   "source": [
    "**Warning: A function's default values are evaluated *only once*, when the function definition is encountered. This is important when the default value is a mutable object such as a list or dictionary**\n",
    "\n",
    "Predict what the following code will do, then run it to test your hypothesis:\n",
    "\n",
    "```Python\n",
    "def append_twice(a, lst=[]):\n",
    "    lst.append(a)\n",
    "    lst.append(a)\n",
    "    return lst\n",
    "   \n",
    "# Works well when the keyword is provided\n",
    "print(append_twice(1, lst=[4]))  # => [4, 1, 1]\n",
    "print(append_twice(11, lst=[2, 3, 5, 7]))  # => [2, 3, 5, 7, 11, 11]\n",
    "\n",
    "# But what happens here?\n",
    "print(append_twice(1))\n",
    "print(append_twice(2))\n",
    "print(append_twice(3))\n",
    "```"
   ]
  },
  {
   "cell_type": "code",
   "execution_count": null,
   "metadata": {},
   "outputs": [],
   "source": [
    "# Something fishy is going on here. Can you deduce what is happening?\n",
    "def append_twice(a, lst=[]):\n",
    "    lst.append(a)\n",
    "    lst.append(a)\n",
    "    return lst\n",
    "   \n",
    "# Works well when the keyword is provided\n",
    "print(append_twice(1, lst=[4]))  # => [4, 1, 1]\n",
    "print(append_twice(11, lst=[2, 3, 5, 7]))  # => [2, 3, 5, 7, 11, 11]\n",
    "\n",
    "# But what happens here?\n",
    "print(append_twice(1))\n",
    "print(append_twice(2))\n",
    "print(append_twice(3))"
   ]
  },
  {
   "cell_type": "markdown",
   "metadata": {},
   "source": [
    "After you run the code, you should see the following printed to the screen:\n",
    "\n",
    "```\n",
    "[1, 1]\n",
    "[1, 1, 2, 2]\n",
    "[1, 1, 2, 2, 3, 3]\n",
    "```\n",
    "Discuss with a partner why this is happening.\n",
    "\n",
    "If you don’t want the default value to be shared between subsequent calls, you can use a sentinel value as the default value (to signal that no keyword argument was explicitly provided by the caller). If so, your function may look something like:\n",
    "\n",
    "```Python\n",
    "def append_twice(a, lst=None):\n",
    "    if lst is None:\n",
    "        lst = []\n",
    "    lst.append(a)\n",
    "    lst.append(a)\n",
    "    return lst\n",
    "```\n",
    "\n",
    "Discuss with a partner whether you think this solution feels better or worse."
   ]
  },
  {
   "cell_type": "code",
   "execution_count": null,
   "metadata": {},
   "outputs": [],
   "source": [
    "def append_twice(a, lst=None):\n",
    "    if lst is None:\n",
    "        lst = []\n",
    "    lst.append(a)\n",
    "    lst.append(a)\n",
    "    return lst"
   ]
  },
  {
   "cell_type": "markdown",
   "metadata": {},
   "source": [
    "## Investigating Function Objects\n",
    "\n",
    "In Monday's class, we mentioned that functions are objects, and that they might have interesting attributes to explore. We'll poke around several of these attributes more in depth here.\n",
    "\n",
    "Usually, this information isn't particularly useful for practitioners (you'll rarely want to hack around with the internals of functions), but even seeing that you *can* in Python is very cool.\n",
    "\n",
    "In this section, there is no code to write. Instead, you will be reading and running code and observing the output. Nevertheless, we encourage you to play around with the code cells to experiment and explore on your own."
   ]
  },
  {
   "cell_type": "markdown",
   "metadata": {},
   "source": [
    "#### Default Values (`__defaults__` and `__kwdefaults__`)\n",
    "\n",
    "As stated earlier, any default values (either normal default arguments or the keyword-only default arguments that follow a variadic positional argument parameter) are bound to the function object at the time of function definition. Consider our `all_together` function from earlier, and run the following code. Why might the `__defaults__` attribute be a tuple, but the `__kwdefaults__` attribute be a dictionary?"
   ]
  },
  {
   "cell_type": "code",
   "execution_count": 147,
   "metadata": {},
   "outputs": [
    {
     "name": "stdout",
     "output_type": "stream",
     "text": [
      "(1,)\n",
      "{'indent': True, 'spaces': 4}\n"
     ]
    }
   ],
   "source": [
    "def all_together(x, y, z=1, *nums, indent=True, spaces=4, **options): pass\n",
    "\n",
    "print(all_together.__defaults__)  # => (1, )\n",
    "print(all_together.__kwdefaults__)  # => {'indent':True, 'spaces':4}"
   ]
  },
  {
   "cell_type": "markdown",
   "metadata": {},
   "source": [
    "#### Documentation (`__doc__`)\n",
    "\n",
    "The first string literal in any function, if it comes before any expression, is bound to the function's `__doc__` attribute. "
   ]
  },
  {
   "cell_type": "code",
   "execution_count": 148,
   "metadata": {},
   "outputs": [
    {
     "name": "stdout",
     "output_type": "stream",
     "text": [
      "Summary line: do nothing, but document it.\n",
      "        \n",
      "    Description: No, really, it doesn't do anything.\n",
      "    \n"
     ]
    }
   ],
   "source": [
    "def my_function():\n",
    "    \"\"\"Summary line: do nothing, but document it.\n",
    "        \n",
    "    Description: No, really, it doesn't do anything.\n",
    "    \"\"\"\n",
    "    pass\n",
    "\n",
    "print(my_function.__doc__)\n",
    "# Summary line: Do nothing, but document it.\n",
    "#\n",
    "#     Description: No, really, it doesn't do anything."
   ]
  },
  {
   "cell_type": "markdown",
   "metadata": {},
   "source": [
    "As stated in lecture, lots of tools use these documentation strings to great advantage. For example, the builtin `help` function displays information from docstrings, and many API-documentation-generation tools like [Sphynx](http://www.sphinx-doc.org/en/stable/) or [Epydoc](http://epydoc.sourceforge.net/) use information contained in the docstring to form smart references and hyperlinks on documentation websites.\n",
    "\n",
    "Furthermore, the [doctest](https://docs.python.org/3/library/doctest.html) standard library module, in it's own words, \"searches [the documentation string] for pieces of text that look like interactive Python sessions, and then executes those sessions to verify that they work exactly as shown.\" Cool!"
   ]
  },
  {
   "cell_type": "markdown",
   "metadata": {},
   "source": [
    "#### Code Object (`__code__`)\n",
    "\n",
    "In CPython, the reference implementation of Python used by many people (including us), functions are byte-compiled into executable Python code, or _bytecode_, when defined. This code object, which represents the bytecode and some administrative information, is bound to the `__code__` attribute, and has a ton of interesting properties, best illustrated by example. Code objects are immutable and contain no references to immutable objects.\n",
    "\n",
    "```Python\n",
    "def all_together(x, y, z=1, *nums, indent=True, spaces=4, **options):\n",
    "    \"\"\"A useless comment\"\"\"\n",
    "    print(x + y * z)\n",
    "    print(sum(nums))\n",
    "    for k, v in options.items():\n",
    "        if indent:\n",
    "            print(\"{}\\t{}\".format(k, v))\n",
    "        else:\n",
    "            print(\"{}{}{}\".format(k, \" \" * spaces, v))\n",
    "            \n",
    "code = all_together.__code__\n",
    "```\n",
    "\n",
    "| Attribute  | Sample Value | Explanation |\n",
    "| --- | --- | --- |\n",
    "| `code.co_argcount` | `3` | number of positional arguments (including arguments with default values) |\n",
    "| `code.co_cellvars` | `()` | tuple containing the names of local variables that are referenced by nested functions |\n",
    "| `code.co_code` | `b't\\x00\\x00...\\x04S\\x00'` | string representing the sequence of bytecode instructions |\n",
    "| `code.co_consts` | `('A useless comment', '{}\\t{}', '{}{}{}', ' ', None)` | tuple containing the literals used by the bytecode - our `None` is from the implicit `return None` at the end |\n",
    "| `code.co_filename` | `filename` or `<stdin>` or `<ipython-input-#-xxx>` | file in which the function was defined |\n",
    "| `code.co_firstlineno` | `1` | line of the file the first line of the function appears |\n",
    "| `code.co_flags` | `79` | AND of compiler-specific binary flags whose internal meaning is (mostly) opaque to us |\n",
    "| `code.co_freevars` | `()` | tuple containing the names of free variables |\n",
    "| `code.co_kwonlyargcount` | `2` | number of keyword-only arguments |\n",
    "| `code.co_lnotab` | `b'\\x00\\x02\\x10\\x01\\x0c\\x01\\x12\\x01\\x04\\x01\\x12\\x02'` | string encoding the mapping from bytecode offsets to line numbers |\n",
    "| `code.co_name` | `\"all_together\"` | the function name  |\n",
    "| `code.co_names` | `('print', 'sum', 'items', 'format')` | tuple containing the names used by the bytecode |\n",
    "| `code.co_nlocals` | `9` | number of local variables used by the function (including arguments) |\n",
    "| `code.co_stacksize` | `7` | required stack size (including local variables) |\n",
    "| `code.co_varnames` | `('x', 'y', 'z', 'indent', 'spaces', 'nums', 'options', 'k', 'v')` | tuple containing the names of the local variables (starting with the argument names) |\n",
    "\n",
    "More info on this, and on all types in Python, can be found at the [data model reference](https://docs.python.org/3/reference/datamodel.html#the-standard-type-hierarchy). For code objects, you have to scroll down to \"Internal Types.\""
   ]
  },
  {
   "cell_type": "code",
   "execution_count": null,
   "metadata": {},
   "outputs": [],
   "source": [
    "def all_together(x, y, z=1, *nums, indent=True, spaces=4, **options):\n",
    "    \"\"\"A useless comment\"\"\"\n",
    "    print(x + y * z)\n",
    "    print(sum(nums))\n",
    "    for k, v in options.items():\n",
    "        if indent:\n",
    "            print(\"{}\\t{}\".format(k, v))\n",
    "        else:\n",
    "            print(\"{}{}{}\".format(k, \" \" * spaces, v))\n",
    "            \n",
    "code = all_together.__code__\n",
    "\n",
    "print(code.co_argcount)\n",
    "print(code.co_cellvars)\n",
    "print(code.co_code)\n",
    "print(code.co_consts)\n",
    "print(code.co_filename)\n",
    "print(code.co_firstlineno)\n",
    "print(code.co_flags)\n",
    "print(code.co_freevars)\n",
    "print(code.co_kwonlyargcount)\n",
    "print(code.co_lnotab)\n",
    "print(code.co_name)\n",
    "print(code.co_names)\n",
    "print(code.co_nlocals)\n",
    "print(code.co_stacksize)\n",
    "print(code.co_varnames)"
   ]
  },
  {
   "cell_type": "markdown",
   "metadata": {},
   "source": [
    "##### Security\n",
    "\n",
    "As we briefly mentioned in class, this can lead to a pretty glaring security vulnerability. Namely, the code object on a given function can be hot-swapped for the code object of another (perhaps malicious function) at runtime!"
   ]
  },
  {
   "cell_type": "code",
   "execution_count": null,
   "metadata": {},
   "outputs": [],
   "source": [
    "def nice(): print(\"You're awesome!\")\n",
    "def mean(): print(\"You're... not awesome. OOOOH\")\n",
    "\n",
    "# Overwrite the code object for nice\n",
    "nice.__code__ = mean.__code__\n",
    "\n",
    "print(nice())  # prints \"You're... not awesome. OOOOH\""
   ]
  },
  {
   "cell_type": "markdown",
   "metadata": {},
   "source": [
    "##### `dis` module\n",
    "\n",
    "The `dis` module, for \"disassemble,\" exports a `dis` function that allows us to disassemble Python byte code (at least, for Python distributions implemented in CPython for existing versions). The disassembled code isn't exactly normal assembly code, but rather is a specialized Python syntax\n",
    "\n",
    "```Python\n",
    "def gcd(a, b):\n",
    "    while b:\n",
    "        a, b = b, a % b\n",
    "    return a\n",
    "    \n",
    "import dis\n",
    "dis.dis(gcd)\n",
    "\"\"\"\n",
    "  2           0 SETUP_LOOP              27 (to 30)\n",
    "        >>    3 LOAD_FAST                1 (b)\n",
    "              6 POP_JUMP_IF_FALSE       29\n",
    "\n",
    "  3           9 LOAD_FAST                1 (b)\n",
    "             12 LOAD_FAST                0 (a)\n",
    "             15 LOAD_FAST                1 (b)\n",
    "             18 BINARY_MODULO\n",
    "             19 ROT_TWO\n",
    "             20 STORE_FAST               0 (a)\n",
    "             23 STORE_FAST               1 (b)\n",
    "             26 JUMP_ABSOLUTE            3\n",
    "        >>   29 POP_BLOCK\n",
    "\n",
    "  4     >>   30 LOAD_FAST                0 (a)\n",
    "             33 RETURN_VALUE\n",
    "\"\"\"\n",
    "```\n",
    "\n",
    "Details on the instructions themselves can be found [here](https://docs.python.org/3/library/dis.html#python-bytecode-instructions).\n",
    "You can read more about the `dis` module [here](https://docs.python.org/3/library/dis.html)."
   ]
  },
  {
   "cell_type": "code",
   "execution_count": null,
   "metadata": {},
   "outputs": [],
   "source": [
    "def gcd(a, b):\n",
    "    while b:\n",
    "        a, b = b, a % b\n",
    "    return a\n",
    "    \n",
    "import dis\n",
    "dis.dis(gcd)"
   ]
  },
  {
   "cell_type": "markdown",
   "metadata": {},
   "source": [
    "#### Parameter Annotations (`__annotations__`)\n",
    "\n",
    "Python allows us to add type annotations on functions arguments and return values. This leads to a world of complex possibilities and is still fairly controversial in the Python ecosystem. Nevertheless, it can be used to communicate to your clients expectations for the types of arguments.\n",
    "\n",
    "Importantly, Python doesn't actually do anything with these annotations and will not check that supplied arguments conform to the type hint specified. This language feature is only made available through the collection of function annotations."
   ]
  },
  {
   "cell_type": "code",
   "execution_count": null,
   "metadata": {},
   "outputs": [],
   "source": [
    "def annotated(a: int, b: str) -> list:\n",
    "    return [a, b]\n",
    "\n",
    "print(annotated.__annotations__)\n",
    "# => {'b': <class 'str'>, 'a': <class 'int'>, 'return': <class 'list'>}"
   ]
  },
  {
   "cell_type": "markdown",
   "metadata": {},
   "source": [
    "This information can be used to build some really neat runtime type-checkers for Python!\n",
    "\n",
    "For more info, check out [PEP 3107](https://www.python.org/dev/peps/pep-3107/) on function annotations or [PEP 484](https://www.python.org/dev/peps/pep-0484/) on type hinting (which was introduced in Python 3.5)"
   ]
  },
  {
   "cell_type": "markdown",
   "metadata": {},
   "source": [
    "#### Call (`__call__`)\n",
    "\n",
    "All Python functions have a `__call__` attribute, which is the actual object called when you use parentheses to \"call\" a function. That is,"
   ]
  },
  {
   "cell_type": "code",
   "execution_count": null,
   "metadata": {},
   "outputs": [],
   "source": [
    "def greet(): print(\"Hello world!\")\n",
    "\n",
    "greet() # \"Hello world!\"\n",
    "# is just syntactic sugar for\n",
    "greet.__call__()  # \"Hello world!\""
   ]
  },
  {
   "cell_type": "markdown",
   "metadata": {},
   "source": [
    "This means that any object (including instances of custom classes) with a `__call__` method can use the parenthesized function call syntax! For example, we can construct a callable `Polynomial` class. We haven't talked about class syntax yet, so feel free to skip this example.\n",
    "\n",
    "```Python\n",
    "class Polynomial:\n",
    "    def __init__(self, coeffs):\n",
    "        \"\"\"Store the coefficients...\"\"\"\n",
    "        \n",
    "    def __call__(self, x):\n",
    "        \"\"\"Compute f(x)...\"\"\"\n",
    "\n",
    "\n",
    "# The polynomial f(x) = 4 + 4 * x + 4 * x ** 2\n",
    "f = Polynomial(4, 4, 1)\n",
    "f(5)  # Really, this is f.__call__(5)\n",
    "```\n",
    "\n",
    "We'll see a lot more about using these so-called \"magic methods\" to exploit Python's apparent operators (like function calling, `+` (`__add__`) or `*` (`__mul__`), etc) in Week 5."
   ]
  },
  {
   "cell_type": "markdown",
   "metadata": {},
   "source": [
    "#### Name Information (`__module__`, `__name__`, and `__qualname__`)\n",
    "\n",
    "Python functions also store some name information about a function, generally for the purposes of friendly printing.\n",
    "\n",
    "`__module__` refers to the module that was active at the time the function was defined. Any functions defined in the interactive interpreter, or run as as a script, will have `__module__ == '__main__'`, but imported modules will have their `__module__` attribute set to the module name. For example, `math.sqrt.__module__` is `\"math\"`.\n",
    "\n",
    "`__name__` is the function's name. Nothing special here.\n",
    "\n",
    "`__qualname__`, which stands for \"qualified name,\" only differs from `__name__` when you're dealing with nested functions, which we'll talk about more Week 4.\n"
   ]
  },
  {
   "cell_type": "markdown",
   "metadata": {},
   "source": [
    "#### Closure (`__closure__`)\n",
    "\n",
    "If you're familiar with closures in other languages, Python closures work almost the exact same way. Closures really only arise when dealing with nested functions, so we'll see more Week 4. This bit of text is just to give you a teaser for what's coming soon - yes, Python has closures!"
   ]
  },
  {
   "cell_type": "markdown",
   "metadata": {},
   "source": [
    "#### `inspect` module\n",
    "\n",
    "As a brief note, all of this mucking around with the internals of Python functions can't be good for our health. Luckily, there's a standard library module for this! The `inspect` module gives us a lot of nice tools for interacting not only with the internals of functions, but also the internals of a lot of other types as well. Check out [the documentation](https://docs.python.org/3/library/inspect.html) for some nice examples."
   ]
  },
  {
   "cell_type": "code",
   "execution_count": null,
   "metadata": {},
   "outputs": [],
   "source": [
    "import inspect\n",
    "\n",
    "def all_together(x, y, z=1, *nums, indent=True, spaces=4, **options): pass\n",
    "\n",
    "print(inspect.getfullargspec(all_together))"
   ]
  },
  {
   "cell_type": "markdown",
   "metadata": {},
   "source": [
    "## Finished Early?\n",
    "Wow! Uh... this is all we've got for you. So at this point, feel free to call a TA over, have them sign off on your work, and then you're free to go!\n",
    "\n",
    "If you'd still like to stay in lab, though, and you didn't get a chnace to read through the following documents last week, though, now is a perfectly good time to peruse them: scan through [PEP 8](https://www.python.org/dev/peps/pep-0008/), Python's official style guide, as well as [PEP 257](https://www.python.org/dev/peps/pep-0257/), Python's suggestions for docstring conventions, if you didn't get a chance to read them last week."
   ]
  },
  {
   "cell_type": "markdown",
   "metadata": {},
   "source": [
    "> With &#129412;s by @psarin and @coopermj"
   ]
  }
 ],
 "metadata": {
  "kernelspec": {
   "display_name": "Python 3",
   "language": "python",
   "name": "python3"
  },
  "language_info": {
   "codemirror_mode": {
    "name": "ipython",
    "version": 3
   },
   "file_extension": ".py",
   "mimetype": "text/x-python",
   "name": "python",
   "nbconvert_exporter": "python",
   "pygments_lexer": "ipython3",
   "version": "3.7.6"
  }
 },
 "nbformat": 4,
 "nbformat_minor": 2
}
